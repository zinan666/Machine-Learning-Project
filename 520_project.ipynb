{
  "nbformat": 4,
  "nbformat_minor": 0,
  "metadata": {
    "colab": {
      "name": "520_project.ipynb",
      "provenance": [],
      "toc_visible": true
    },
    "kernelspec": {
      "name": "python3",
      "display_name": "Python 3"
    }
  },
  "cells": [
    {
      "cell_type": "markdown",
      "metadata": {
        "id": "0igD7145vb9j"
      },
      "source": [
        "## To reproduce our work, please follow the instructions in the README. "
      ]
    },
    {
      "cell_type": "code",
      "metadata": {
        "id": "d3N3jUeVZZ_L",
        "colab": {
          "base_uri": "https://localhost:8080/"
        },
        "outputId": "690cf2e2-3b2b-4b4e-e8c0-23c042bdd44e"
      },
      "source": [
        "!pip install pyspellchecker\n",
        "!pip install emoji\n",
        "!pip install pyLDAvis"
      ],
      "execution_count": null,
      "outputs": [
        {
          "output_type": "stream",
          "text": [
            "Collecting pyspellchecker\n",
            "\u001b[?25l  Downloading https://files.pythonhosted.org/packages/f1/96/827c132397d0eb5731c1eda05dbfb019ede064ca8c7d0f329160ce0a4acd/pyspellchecker-0.5.5-py2.py3-none-any.whl (1.9MB)\n",
            "\u001b[K     |████████████████████████████████| 1.9MB 6.1MB/s \n",
            "\u001b[?25hInstalling collected packages: pyspellchecker\n",
            "Successfully installed pyspellchecker-0.5.5\n",
            "Collecting emoji\n",
            "\u001b[?25l  Downloading https://files.pythonhosted.org/packages/ff/1c/1f1457fe52d0b30cbeebfd578483cedb3e3619108d2d5a21380dfecf8ffd/emoji-0.6.0.tar.gz (51kB)\n",
            "\u001b[K     |████████████████████████████████| 51kB 3.2MB/s \n",
            "\u001b[?25hBuilding wheels for collected packages: emoji\n",
            "  Building wheel for emoji (setup.py) ... \u001b[?25l\u001b[?25hdone\n",
            "  Created wheel for emoji: filename=emoji-0.6.0-cp36-none-any.whl size=49715 sha256=24d444293fdc18e87a89cd57b94c07e8e93755a176931a9cb0e66efd388786d9\n",
            "  Stored in directory: /root/.cache/pip/wheels/46/2c/8b/9dcf5216ca68e14e0320e283692dce8ae321cdc01e73e17796\n",
            "Successfully built emoji\n",
            "Installing collected packages: emoji\n",
            "Successfully installed emoji-0.6.0\n",
            "Collecting pyLDAvis\n",
            "\u001b[?25l  Downloading https://files.pythonhosted.org/packages/a5/3a/af82e070a8a96e13217c8f362f9a73e82d61ac8fff3a2561946a97f96266/pyLDAvis-2.1.2.tar.gz (1.6MB)\n",
            "\u001b[K     |████████████████████████████████| 1.6MB 7.2MB/s \n",
            "\u001b[?25hRequirement already satisfied: wheel>=0.23.0 in /usr/local/lib/python3.6/dist-packages (from pyLDAvis) (0.36.1)\n",
            "Requirement already satisfied: numpy>=1.9.2 in /usr/local/lib/python3.6/dist-packages (from pyLDAvis) (1.18.5)\n",
            "Requirement already satisfied: scipy>=0.18.0 in /usr/local/lib/python3.6/dist-packages (from pyLDAvis) (1.4.1)\n",
            "Requirement already satisfied: pandas>=0.17.0 in /usr/local/lib/python3.6/dist-packages (from pyLDAvis) (1.1.5)\n",
            "Requirement already satisfied: joblib>=0.8.4 in /usr/local/lib/python3.6/dist-packages (from pyLDAvis) (0.17.0)\n",
            "Requirement already satisfied: jinja2>=2.7.2 in /usr/local/lib/python3.6/dist-packages (from pyLDAvis) (2.11.2)\n",
            "Requirement already satisfied: numexpr in /usr/local/lib/python3.6/dist-packages (from pyLDAvis) (2.7.1)\n",
            "Requirement already satisfied: pytest in /usr/local/lib/python3.6/dist-packages (from pyLDAvis) (3.6.4)\n",
            "Requirement already satisfied: future in /usr/local/lib/python3.6/dist-packages (from pyLDAvis) (0.16.0)\n",
            "Collecting funcy\n",
            "  Downloading https://files.pythonhosted.org/packages/66/89/479de0afbbfb98d1c4b887936808764627300208bb771fcd823403645a36/funcy-1.15-py2.py3-none-any.whl\n",
            "Requirement already satisfied: python-dateutil>=2.7.3 in /usr/local/lib/python3.6/dist-packages (from pandas>=0.17.0->pyLDAvis) (2.8.1)\n",
            "Requirement already satisfied: pytz>=2017.2 in /usr/local/lib/python3.6/dist-packages (from pandas>=0.17.0->pyLDAvis) (2018.9)\n",
            "Requirement already satisfied: MarkupSafe>=0.23 in /usr/local/lib/python3.6/dist-packages (from jinja2>=2.7.2->pyLDAvis) (1.1.1)\n",
            "Requirement already satisfied: more-itertools>=4.0.0 in /usr/local/lib/python3.6/dist-packages (from pytest->pyLDAvis) (8.6.0)\n",
            "Requirement already satisfied: six>=1.10.0 in /usr/local/lib/python3.6/dist-packages (from pytest->pyLDAvis) (1.15.0)\n",
            "Requirement already satisfied: attrs>=17.4.0 in /usr/local/lib/python3.6/dist-packages (from pytest->pyLDAvis) (20.3.0)\n",
            "Requirement already satisfied: setuptools in /usr/local/lib/python3.6/dist-packages (from pytest->pyLDAvis) (50.3.2)\n",
            "Requirement already satisfied: atomicwrites>=1.0 in /usr/local/lib/python3.6/dist-packages (from pytest->pyLDAvis) (1.4.0)\n",
            "Requirement already satisfied: py>=1.5.0 in /usr/local/lib/python3.6/dist-packages (from pytest->pyLDAvis) (1.9.0)\n",
            "Requirement already satisfied: pluggy<0.8,>=0.5 in /usr/local/lib/python3.6/dist-packages (from pytest->pyLDAvis) (0.7.1)\n",
            "Building wheels for collected packages: pyLDAvis\n",
            "  Building wheel for pyLDAvis (setup.py) ... \u001b[?25l\u001b[?25hdone\n",
            "  Created wheel for pyLDAvis: filename=pyLDAvis-2.1.2-py2.py3-none-any.whl size=97711 sha256=cbdb8952c520e267577b88914352fbef13e44830e381e06ad9a5df204b0d6e98\n",
            "  Stored in directory: /root/.cache/pip/wheels/98/71/24/513a99e58bb6b8465bae4d2d5e9dba8f0bef8179e3051ac414\n",
            "Successfully built pyLDAvis\n",
            "Installing collected packages: funcy, pyLDAvis\n",
            "Successfully installed funcy-1.15 pyLDAvis-2.1.2\n"
          ],
          "name": "stdout"
        }
      ]
    },
    {
      "cell_type": "code",
      "metadata": {
        "colab": {
          "base_uri": "https://localhost:8080/"
        },
        "id": "z9MXNKneZeeS",
        "outputId": "78d0742f-5e4c-424d-a0a3-dc9451b91b0c"
      },
      "source": [
        "import numpy as np\n",
        "import pandas as pd\n",
        "import seaborn as sns\n",
        "import re\n",
        "import nltk\n",
        "import string\n",
        "import emoji\n",
        "from nltk.corpus import stopwords\n",
        "nltk.download('stopwords')\n",
        "nltk.download('punkt')\n",
        "from nltk.tokenize import word_tokenize\n",
        "from spellchecker import SpellChecker\n",
        "from tqdm import tqdm\n",
        "from gensim.parsing.preprocessing import remove_stopwords\n",
        "from pyLDAvis import sklearn as sklearn_lda\n",
        "import pickle \n",
        "import pyLDAvis\n",
        "import os\n",
        "from sklearn.feature_extraction.text import CountVectorizer\n",
        "from sklearn.decomposition import LatentDirichletAllocation as LDA #standardize\n",
        "import warnings\n",
        "warnings.simplefilter(\"ignore\", DeprecationWarning)\n",
        "import matplotlib.pyplot as plt\n",
        "sns.set_style('whitegrid')\n",
        "%matplotlib inline"
      ],
      "execution_count": null,
      "outputs": [
        {
          "output_type": "stream",
          "text": [
            "[nltk_data] Downloading package stopwords to /root/nltk_data...\n",
            "[nltk_data]   Unzipping corpora/stopwords.zip.\n",
            "[nltk_data] Downloading package punkt to /root/nltk_data...\n",
            "[nltk_data]   Unzipping tokenizers/punkt.zip.\n"
          ],
          "name": "stdout"
        }
      ]
    },
    {
      "cell_type": "code",
      "metadata": {
        "id": "Vb5QDjWpLlzX",
        "colab": {
          "base_uri": "https://localhost:8080/"
        },
        "outputId": "7df44c39-403e-4381-8fc2-48f7797f1684"
      },
      "source": [
        "from google.colab import drive\n",
        "drive.mount('/content/drive')"
      ],
      "execution_count": null,
      "outputs": [
        {
          "output_type": "stream",
          "text": [
            "Mounted at /content/drive\n"
          ],
          "name": "stdout"
        }
      ]
    },
    {
      "cell_type": "code",
      "metadata": {
        "id": "4_ZRIzLUaKbC",
        "colab": {
          "base_uri": "https://localhost:8080/"
        },
        "outputId": "0b89f5db-a0ed-4120-cfc3-4035f2e78a35"
      },
      "source": [
        "df = pd.read_csv('/content/drive/Shared drives/CIS 520 final project/tweets.csv')\n",
        "df.shape"
      ],
      "execution_count": null,
      "outputs": [
        {
          "output_type": "execute_result",
          "data": {
            "text/plain": [
              "(11370, 5)"
            ]
          },
          "metadata": {
            "tags": []
          },
          "execution_count": 4
        }
      ]
    },
    {
      "cell_type": "code",
      "metadata": {
        "id": "GsmeVxdoV6fi",
        "colab": {
          "base_uri": "https://localhost:8080/"
        },
        "outputId": "5deb6731-8528-4099-86c4-85adb97c1c19"
      },
      "source": [
        "df.info()"
      ],
      "execution_count": null,
      "outputs": [
        {
          "output_type": "stream",
          "text": [
            "<class 'pandas.core.frame.DataFrame'>\n",
            "RangeIndex: 11370 entries, 0 to 11369\n",
            "Data columns (total 5 columns):\n",
            " #   Column    Non-Null Count  Dtype \n",
            "---  ------    --------------  ----- \n",
            " 0   id        11370 non-null  int64 \n",
            " 1   keyword   11370 non-null  object\n",
            " 2   location  7952 non-null   object\n",
            " 3   text      11370 non-null  object\n",
            " 4   target    11370 non-null  int64 \n",
            "dtypes: int64(2), object(3)\n",
            "memory usage: 444.3+ KB\n"
          ],
          "name": "stdout"
        }
      ]
    },
    {
      "cell_type": "markdown",
      "metadata": {
        "id": "bChh9z_n0iJ6"
      },
      "source": [
        "# **Data Cleaning** "
      ]
    },
    {
      "cell_type": "code",
      "metadata": {
        "id": "e2HFzY-H5ojb"
      },
      "source": [
        "# remove url\n",
        "def remove_url(text):\n",
        "    text = re.compile(r'https?://\\S+|www\\.\\S+').sub(r'',text)\n",
        "    return text\n",
        "\n",
        "#remove html tags\n",
        "def remove_html(text):\n",
        "    text = re.compile(r'<.*?>').sub(r'',text)\n",
        "    return text\n",
        "\n",
        "def remove_emoji(text):\n",
        "    text = re.compile(pattern = \"[\"\n",
        "        u\"\\U0001F600-\\U0001F64F\"  # emoticons\n",
        "        u\"\\U0001F300-\\U0001F5FF\"  # symbols & pictographs\n",
        "        u\"\\U0001F680-\\U0001F6FF\"  # transport & map symbols\n",
        "        u\"\\U0001F1E0-\\U0001F1FF\"  # flags (iOS)\n",
        "                           \"]+\", flags = re.UNICODE).sub(r'',text)\n",
        "    text = emoji.demojize(text)\n",
        "    text = re.sub(':\\S+?:', ' ', text)\n",
        "    return text\n",
        "\n",
        "def remove_punctuation(text):\n",
        "    text = text.translate(str.maketrans('','', string.punctuation))\n",
        "    return text\n",
        "\n",
        "def remove_stopword(text):\n",
        "    text = remove_stopwords(text)\n",
        "    return text"
      ],
      "execution_count": null,
      "outputs": []
    },
    {
      "cell_type": "code",
      "metadata": {
        "id": "octtO_148fTI"
      },
      "source": [
        "df['text'] = df['text'].apply(lambda x:remove_url(x))\n",
        "df['text'] = df['text'].apply(lambda x:remove_html(x))\n",
        "df['text'] = df['text'].apply(lambda x:remove_emoji(x))\n",
        "df['text'] = df['text'].apply(lambda x:remove_punctuation(x))\n",
        "df['text'] = df['text'].apply(lambda x: x.lower())\n",
        "df['text'] = df['text'].apply(lambda x:remove_stopword(x))"
      ],
      "execution_count": null,
      "outputs": []
    },
    {
      "cell_type": "markdown",
      "metadata": {
        "id": "cmPkKcq20657"
      },
      "source": [
        "# **Data Visualization**"
      ]
    },
    {
      "cell_type": "code",
      "metadata": {
        "id": "qLzOUkutbQie"
      },
      "source": [
        "# Helper function\n",
        "def plot_20_most_common_words(count_data, count_vectorizer):\n",
        "    import matplotlib.pyplot as plt\n",
        "    words = count_vectorizer.get_feature_names()\n",
        "    total_counts = np.zeros(len(words))\n",
        "    for t in count_data:\n",
        "        total_counts+=t.toarray()[0]\n",
        "    \n",
        "    count_dict = (zip(words, total_counts))\n",
        "    count_dict = sorted(count_dict, key=lambda x:x[1], reverse=True)[0:20]\n",
        "    words = [w[0] for w in count_dict]\n",
        "    counts = [w[1] for w in count_dict]\n",
        "    x_pos = np.arange(len(words)) \n",
        "    \n",
        "    plt.figure(2, figsize=(15, 15/1.6180))\n",
        "    plt.subplot(title='20 most common words')\n",
        "    sns.set_context(\"notebook\", font_scale=1.25, rc={\"lines.linewidth\": 2.5})\n",
        "    sns.barplot(x_pos, counts, palette='husl')\n",
        "    plt.xticks(x_pos, words, rotation=90) \n",
        "    plt.xlabel('words')\n",
        "    plt.ylabel('counts')\n",
        "    plt.show()"
      ],
      "execution_count": null,
      "outputs": []
    },
    {
      "cell_type": "code",
      "metadata": {
        "id": "j5mVoic2bi5G",
        "colab": {
          "base_uri": "https://localhost:8080/",
          "height": 671
        },
        "outputId": "5601378c-bb36-498c-98ae-0e2c113d65f0"
      },
      "source": [
        "# select text with target = 1\n",
        "df_disaster = df[df.target == 1]\n",
        "\n",
        "count_vectorizer_text = CountVectorizer()\n",
        "text_data = count_vectorizer_text.fit_transform(df_disaster['text'])\n",
        "plot_20_most_common_words(text_data, count_vectorizer_text)"
      ],
      "execution_count": null,
      "outputs": [
        {
          "output_type": "stream",
          "text": [
            "/usr/local/lib/python3.6/dist-packages/seaborn/_decorators.py:43: FutureWarning: Pass the following variables as keyword args: x, y. From version 0.12, the only valid positional argument will be `data`, and passing other arguments without an explicit keyword will result in an error or misinterpretation.\n",
            "  FutureWarning\n"
          ],
          "name": "stderr"
        },
        {
          "output_type": "display_data",
          "data": {
            "image/png": "[encoded data removed]",
            "text/plain": [
              "<Figure size 1080x667.491 with 1 Axes>"
            ]
          },
          "metadata": {
            "tags": [],
            "needs_background": "light"
          }
        }
      ]
    },
    {
      "cell_type": "code",
      "metadata": {
        "id": "wh0HYZ_Vso0n"
      },
      "source": [
        "# Helper function\n",
        "def print_topics(model, count_vectorizer, n_top_words):\n",
        "    words = count_vectorizer.get_feature_names()\n",
        "    for topic_idx, topic in enumerate(model.components_):\n",
        "        print(\"\\nTopic #%d:\" % topic_idx)\n",
        "        print(\" \".join([words[i]\n",
        "                        for i in topic.argsort()[:-n_top_words - 1:-1]]))"
      ],
      "execution_count": null,
      "outputs": []
    },
    {
      "cell_type": "code",
      "metadata": {
        "colab": {
          "base_uri": "https://localhost:8080/"
        },
        "id": "dP03rGWxIWf2",
        "outputId": "4443a858-d9af-426d-95eb-53e90a739e1e"
      },
      "source": [
        "number_topics = 10\n",
        "number_words = 10\n",
        "\n",
        "# Create and fit the LDA model\n",
        "text_lda = LDA(n_components=number_topics)\n",
        "text_lda.fit(text_data)\n",
        "\n",
        "# Print the topics found by the LDA model\n",
        "print(\"Topics found via LDA:\")\n",
        "print_topics(text_lda, count_vectorizer_text, number_words)"
      ],
      "execution_count": null,
      "outputs": [
        {
          "output_type": "stream",
          "text": [
            "Topics found via LDA:\n",
            "\n",
            "Topic #0:\n",
            "train hitchin freight derailed derailment thunderstorm morning chemical hazard massive\n",
            "\n",
            "Topic #1:\n",
            "volcano taal eruption philippines amp australia animals bushfires british dead\n",
            "\n",
            "Topic #2:\n",
            "iran people killed ukrainian tornado plane home nuclear powerful flattened\n",
            "\n",
            "Topic #3:\n",
            "body parts bag storm north woman air dublin area quarantined\n",
            "\n",
            "Topic #4:\n",
            "iran months venice people dry attack early floods severe amp\n",
            "\n",
            "Topic #5:\n",
            "nc thunderstorm severe warning avalanche weather alert australia est amp\n",
            "\n",
            "Topic #6:\n",
            "suicide outbreak pakistan 15 hi death service freight bombing virus\n",
            "\n",
            "Topic #7:\n",
            "earthquake puerto rico hit storm magnitude attack people iran israel\n",
            "\n",
            "Topic #8:\n",
            "bus sinkhole china swallows people killed dead huge ground pedestrians\n",
            "\n",
            "Topic #9:\n",
            "emergency services collision lanes road closed people helicopter train scene\n"
          ],
          "name": "stdout"
        }
      ]
    },
    {
      "cell_type": "code",
      "metadata": {
        "id": "QW9f_8d3xwWA",
        "colab": {
          "base_uri": "https://localhost:8080/",
          "height": 881
        },
        "outputId": "d80356bc-3a5f-44cc-827c-874eeb0c4d02"
      },
      "source": [
        "# Visualize the topics\n",
        "pyLDAvis.enable_notebook()\n",
        "\n",
        "LDAvis_data_filepath = os.path.join('./ldavis_prepared_'+str(number_topics))\n",
        "if 1 == 1:\n",
        "\n",
        "    LDAvis_prepared = sklearn_lda.prepare(text_lda, text_data, count_vectorizer_text)\n",
        "\n",
        "    with open(LDAvis_data_filepath, 'wb') as f:\n",
        "        pickle.dump(LDAvis_prepared, f)\n",
        "        \n",
        "with open(LDAvis_data_filepath,'rb') as f:\n",
        "    LDAvis_prepared = pickle.load(f)\n",
        "\n",
        "pyLDAvis.save_html(LDAvis_prepared, './ldavis_prepared_'+ str(number_topics) +'.html')\n",
        "\n",
        "LDAvis_prepared"
      ],
      "execution_count": null,
      "outputs": [
        {
          "output_type": "execute_result",
          "data": {
            "text/html": [
              "\n",
              "<link rel=\"stylesheet\" type=\"text/css\" href=\"https://cdn.rawgit.com/bmabey/pyLDAvis/files/ldavis.v1.0.0.css\">\n",
              "\n",
              "\n",
              "<div id=\"ldavis_el541401543572396244288385421\"></div>\n",
              "<script type=\"text/javascript\">\n",
              "\n",
              "var ldavis_el541401543572396244288385421_data = {\"mdsDat\": {\"x\": [0.08084305306033274, -0.004894417027531216, 0.10817150882703781, 0.03074714930127306, -0.13479502728144022, -0.17440525461239725, 0.024726098995766034, -0.016636405265437606, 0.045709642392364615, 0.0405336516100321], \"y\": [0.16276127821167202, -0.10536077555155629, 0.03863141594339423, 0.0038722374983562896, 0.07467426007116147, 0.02934185045981819, -0.050779324025987886, -0.08895447973897072, -0.07944018674247627, 0.01525372387458895], \"topics\": [1, 2, 3, 4, 5, 6, 7, 8, 9, 10], \"cluster\": [1, 1, 1, 1, 1, 1, 1, 1, 1, 1], \"Freq\": [12.028676341701763, 11.101680666608734, 10.952618426271906, 10.797999446529507, 10.571209295182694, 9.339032277307806, 9.176400678647315, 8.962014558247581, 8.81109239785592, 8.259275911646785]}, \"tinfo\": {\"Term\": [\"bus\", \"sinkhole\", \"china\", \"train\", \"swallows\", \"volcano\", \"taal\", \"hitchin\", \"nc\", \"earthquake\", \"storm\", \"thunderstorm\", \"puerto\", \"body\", \"freight\", \"emergency\", \"rico\", \"eruption\", \"services\", \"parts\", \"severe\", \"philippines\", \"avalanche\", \"iran\", \"derailment\", \"derailed\", \"bag\", \"warning\", \"suicide\", \"dead\", \"furniture\", \"cliff\", \"erupts\", \"hindus\", \"melbournes\", \"davis\", \"madalyn\", \"shops\", \"exploding\", \"fall\", \"n21\", \"kugbo\", \"feed\", \"0100\", \"sc\", \"tourist\", \"burn\", \"sydney\", \"sydneys\", \"coupled\", \"dropping\", \"spree\", \"selfie\", \"aspect\", \"lebanon\", \"knowing\", \"administered\", \"297\", \"inhuman\", \"zariagenocide\", \"548\", \"tyrant\", \"philippines\", \"bushfires\", \"eruption\", \"worth\", \"volcano\", \"worst\", \"taal\", \"animals\", \"ravaging\", \"british\", \"hazardous\", \"volcanic\", \"murdered\", \"rubble\", \"got\", \"rioting\", \"men\", \"razed\", \"australia\", \"amp\", \"dead\", \"quality\", \"air\", \"base\", \"update\", \"died\", \"today\", \"the\", \"days\", \"lightning\", \"people\", \"police\", \"fires\", \"2020\", \"ash\", \"parts\", \"coronavirus\", \"tn\", \"coolock\", \"hiv\", \"gardai\", \"body\", \"penn\", \"schumer\", \"detectors\", \"renews\", \"haryana\", \"gaza\", \"waves\", \"drop\", \"naugam\", \"sea\", \"dublin\", \"stigmabase\", \"chandigarh\", \"accompanied\", \"haillightning\", \"m50\", \"strip\", \"amrah\", \"extensive\", \"nato\", \"lavrov\", \"libyan\", \"libyans\", \"statehood\", \"bag\", \"gale\", \"north\", \"woman\", \"quarantined\", \"likely\", \"status\", \"area\", \"thailand\", \"overnight\", \"force\", \"family\", \"air\", \"violent\", \"storm\", \"red\", \"following\", \"quality\", \"mystery\", \"chinese\", \"winds\", \"south\", \"strike\", \"new\", \"brendan\", \"today\", \"news\", \"home\", \"iran\", \"attack\", \"warning\", \"police\", \"powerful\", \"flattened\", \"survives\", \"closet\", \"role\", \"176\", \"zero\", \"grandmother\", \"aboard\", \"understood\", \"wa\", \"monster\", \"estate\", \"population\", \"prayer\", \"fukushima\", \"blame\", \"warehousing\", \"postal\", \"employed\", \"greatest\", \"risks\", \"aussies\", \"zakzaky\", \"sheikh\", \"detention\", \"zariamassacre\", \"highelevation\", \"industrial\", \"grangemouth\", \"return\", \"57\", \"wednesday\", \"plane\", \"scotland\", \"55\", \"human\", \"ukrainian\", \"tornado\", \"nearly\", \"iran\", \"mass\", \"innocent\", \"arson\", \"arrested\", \"people\", \"home\", \"nuclear\", \"killed\", \"iranian\", \"plant\", \"passengers\", \"killing\", \"disaster\", \"incident\", \"windstorm\", \"australia\", \"road\", \"emergency\", \"storm\", \"australian\", \"taal\", \"years\", \"nc\", \"bsf\", \"sector\", \"300\", \"nwsseveretstorm\", \"est\", \"loc\", \"hawaii\", \"avalanche\", \"flee\", \"elroy\", \"315\", \"koreas\", \"rips\", \"rocks\", \"jakarta\", \"jawan\", \"effect\", \"live\", \"olive\", \"machil\", \"glen\", \"avon\", \"dime\", \"allan\", \"jawans\", \"ecg\", \"pole\", \"brogden\", \"1pm\", \"national\", \"soldier\", \"weather\", \"possible\", \"alert\", \"severe\", \"continues\", \"soldiers\", \"warning\", \"thunderstorm\", \"including\", \"pm\", \"rescue\", \"mount\", \"lost\", \"coast\", \"new\", \"australia\", \"news\", \"amp\", \"fires\", \"forest\", \"taal\", \"volcano\", \"hit\", \"rescued\", \"people\", \"hitchin\", \"cobram\", \"advice\", \"vichazmat\", \"spc\", \"pasquotank\", \"zhuhai\", \"usmexico\", \"tb\", \"portal\", \"swine\", \"affecting\", \"nwsspc\", \"chinas\", \"guangdong\", \"whirlwind\", \"depot\", \"derailed\", \"affect\", \"wants\", \"rivers\", \"fight\", \"bioterror\", \"article\", \"outlook\", \"hazard\", \"se\", \"bertie\", \"perquimans\", \"163th\", \"good\", \"info\", \"train\", \"freight\", \"experienced\", \"derailment\", \"trains\", \"chemical\", \"massive\", \"morning\", \"low\", \"speed\", \"accident\", \"buildings\", \"thunderstorm\", \"central\", \"explosion\", \"new\", \"power\", \"nuclear\", \"rain\", \"time\", \"heavy\", \"people\", \"iran\", \"mosque\", \"reduced\", \"rises\", \"aid\", \"wuhan\", \"anticaa\", \"confirms\", \"legal\", \"informed\", \"bomber\", \"diagnosed\", \"depotsidings\", \"bushfirecrisis\", \"ebola\", \"september\", \"justice\", \"dumped\", \"rock\", \"kota\", \"spreads\", \"lawyer\", \"widow\", \"silence\", \"61\", \"nola\", \"kayole\", \"nairobi\", \"10year\", \"neverbeforeseen\", \"falsely\", \"service\", \"boy\", \"protestors\", \"pakistan\", \"pneumonia\", \"outbreak\", \"suicide\", \"running\", \"virus\", \"15\", \"toll\", \"hi\", \"bombing\", \"electrocuted\", \"death\", \"mystery\", \"tied\", \"sorry\", \"moment\", \"freight\", \"im\", \"thailand\", \"said\", \"mph\", \"train\", \"years\", \"chinese\", \"killed\", \"woman\", \"china\", \"high\", \"bomb\", \"today\", \"derailment\", \"lanes\", \"j4\", \"va\", \"m20\", \"maidstone\", \"j5\", \"specialised\", \"leybourne\", \"gauteng\", \"concerned\", \"scattered\", \"dunn\", \"m66\", \"blacksburg\", \"nwsblacksburg\", \"southerly\", \"reopened\", \"netcare\", \"fields\", \"15th17th\", \"rainthunderstorm\", \"gatwick\", \"athgoe\", \"m7\", \"rathcoole\", \"westbound\", \"fully\", \"medical\", \"rd\", \"helicopter\", \"closed\", \"services\", \"emergency\", \"scene\", \"blocking\", \"blocked\", \"collision\", \"highway\", \"nj\", \"traffic\", \"road\", \"lane\", \"bomb\", \"vehicle\", \"devastation\", \"east\", \"derailment\", \"ash\", \"train\", \"people\", \"incident\", \"police\", \"amp\", \"fires\", \"killed\", \"australia\", \"bus\", \"sinkhole\", \"swallows\", \"pedestrians\", \"enormous\", \"northwest\", \"swallowed\", \"xining\", \"ceuta\", \"sparking\", \"attending\", \"bbc\", \"faryab\", \"toppling\", \"records\", \"raise\", \"illness\", \"c211\", \"castertonapsley\", \"china\", \"mother\", \"51\", \"onset\", \"29863\", \"spills\", \"maritime\", \"carrier\", \"allow\", \"baluchistan\", \"rammed\", \"ayyappan\", \"festival\", \"port\", \"huge\", \"heat\", \"ground\", \"dead\", \"responsibility\", \"significant\", \"knocking\", \"storms\", \"killing\", \"people\", \"killed\", \"snow\", \"missing\", \"northbound\", \"injury\", \"spill\", \"injured\", \"wave\", \"road\", \"news\", \"breaking\", \"january\", \"amp\", \"having\", \"attack\", \"collision\", \"thousands\", \"man\", \"died\", \"puerto\", \"rico\", \"magnitude\", \"59\", \"cable\", \"kyma\", \"demolish\", \"quake\", \"westbank\", \"warcrimes\", \"prisoners\", \"cancellations\", \"earthquake\", \"b5427\", \"kingdom\", \"brings\", \"veterinarian\", \"mile\", \"palestinechron\", \"retrieved\", \"race\", \"haunt\", \"modems\", \"stevenage\", \"culverden\", \"m24\", \"grove\", \"points\", \"thameslink\", \"ga\", \"aftershock\", \"sandstorm\", \"haiti\", \"plan\", \"palestinian\", \"60\", \"hit\", \"israel\", \"saturday\", \"storm\", \"brendan\", \"horses\", \"attack\", \"time\", \"island\", \"local\", \"iran\", \"warning\", \"set\", \"people\", \"update\", \"severe\", \"homes\", \"amp\", \"car\", \"winds\", \"thunderstorm\", \"region\", \"canals\", \"protected\", \"wires\", \"chop\", \"turbines\", \"federally\", \"gondolas\", \"venice\", \"dry\", \"tanker\", \"bir\", \"seminole\", \"sacks\", \"nigerien\", \"travel\", \"barcombe\", \"turnoff\", \"lengthy\", \"galapagos\", \"stage\", \"electric\", \"early\", \"batang\", \"azadi\", \"english\", \"selectively\", \"mobs\", \"pelter\", \"1939\", \"71\", \"3700\", \"jonova\", \"structural\", \"birds\", \"president\", \"floods\", \"fatality\", \"electrocute\", \"months\", \"failure\", \"millions\", \"district\", \"wind\", \"war\", \"obliterate\", \"iran\", \"including\", \"attack\", \"hours\", \"middle\", \"terrorist\", \"severe\", \"people\", \"burning\", \"amp\", \"killed\", \"australia\", \"news\", \"man\"], \"Freq\": [45.0, 44.0, 45.0, 55.0, 31.0, 67.0, 54.0, 30.0, 29.0, 31.0, 51.0, 58.0, 22.0, 30.0, 32.0, 44.0, 21.0, 40.0, 32.0, 22.0, 49.0, 29.0, 23.0, 68.0, 31.0, 22.0, 26.0, 45.0, 29.0, 40.0, 7.230430274080983, 7.230427438554438, 5.641303720522806, 4.8467676959315655, 4.846761189550592, 4.0522191138646715, 4.0522191138646715, 4.052213727406065, 4.052160239284888, 8.635913437549899, 3.2576667249583204, 3.2576667249583204, 3.257666724718297, 3.257666404131276, 3.2576364952819303, 6.435893996330128, 5.6413516198150875, 5.585888209062005, 2.463113865007398, 2.463113864990598, 2.4631138648610365, 2.4631138647426156, 2.4631138647284425, 2.4631138646412567, 2.4631138646350625, 2.4631130771747007, 2.4631126625633497, 2.463112484825136, 2.463112484825136, 2.463112484825136, 2.463112484825136, 2.463112484825136, 22.62397112718997, 14.381448042927621, 29.377457234578806, 4.846777625697156, 44.416906426197556, 6.4160096269069955, 35.996394361338034, 16.51072226511281, 4.0522215278224865, 13.530739017073365, 12.498245727556785, 5.848221552769204, 5.616854707516067, 5.587432283496896, 8.277008190819917, 4.846799389203308, 6.385976923030504, 8.025078819468872, 16.84694808667415, 19.421402097536454, 12.776317109031776, 7.840875420628931, 11.555400030143703, 7.946284121954848, 8.631107159641239, 8.21949592542857, 9.06884002595224, 7.230700046102119, 7.462269783447306, 6.992927081986388, 10.264672943867875, 8.194493320238978, 7.672696401487243, 6.888880155142481, 6.797767910496463, 21.046831388066597, 7.067355127416209, 7.06734699906379, 6.290733353176728, 5.514101731817793, 4.737465721653295, 26.225202670923068, 3.960834125642474, 3.960834125642474, 3.1841999830563146, 3.1841999830563146, 3.1841999829048935, 3.1841994795724484, 3.1841974437562084, 3.1841797523102824, 3.184134613673645, 3.128879972607766, 13.941723449379925, 2.4075658409975143, 2.4075658409241445, 2.4075658409241445, 2.4075658409241445, 2.407565840535353, 2.4075651451807416, 2.4075651451807416, 2.407563811727095, 2.407563765170287, 2.407563765170287, 2.407563765170287, 2.407563765170287, 2.407563765170287, 19.26979310360588, 4.664026783715025, 17.144930618192742, 16.38703136582935, 11.72719859781788, 3.960835044235608, 3.9607634628867934, 11.727295652910497, 11.066808663173761, 4.737465874292104, 9.971391546218207, 7.844130814662582, 16.348422006464563, 9.431124448229538, 19.007070200115557, 6.230798296374713, 8.482905013241101, 8.023941664836533, 8.098454108667486, 7.843999289693208, 10.079628637395567, 11.361481989322831, 6.29058804369186, 9.943987068925221, 6.377874277137901, 8.333194786578716, 8.57070700217707, 7.408945316310724, 8.175652783376366, 7.521667595312953, 7.036176282800026, 6.8575806573787785, 11.671970216000638, 10.898980653814098, 9.353051215373075, 9.353051215373075, 6.261133457998086, 6.2611317232019825, 5.4881540186481015, 9.353082764709198, 3.9421951398224833, 3.9421951395874575, 3.9421805701443855, 3.1692157002270025, 3.1692156998777077, 3.169213054410715, 9.353077008794456, 6.190272124630844, 2.396236261357731, 2.3962362613259183, 2.3962362613259183, 2.3962362613259183, 2.3962362613259183, 2.3962362613259183, 2.3962362613259183, 2.3962362612366968, 2.3962362612366968, 2.3962362612366968, 2.3962362612366968, 2.396236261185485, 2.3962362611538346, 2.3962362611538346, 7.034162012832174, 4.715179061998789, 3.9421937580101227, 13.044478558278591, 5.423254733378322, 3.9421864285936876, 9.352977818461122, 13.498236634921001, 13.075872873039298, 7.8071698370513625, 26.670561461356993, 8.724230586606392, 7.807139707493042, 6.795200835819793, 9.873340197385819, 24.183488122975387, 12.121098253851985, 11.788810608964916, 18.861136237174872, 8.540820778075362, 6.853192625413963, 7.197705712217462, 8.33621919320738, 8.066351492720932, 7.763273314223476, 7.034138375872651, 9.812190761479796, 8.988449215899132, 8.943576882282688, 9.139403381770622, 7.709616754215877, 8.641389878085985, 7.965725003542995, 28.979520446585003, 9.451532852827265, 7.889298210938556, 6.3270581385354845, 6.327056299327788, 13.232728215582727, 5.545894476703073, 4.764825312637153, 19.969999553612237, 3.983707381613782, 3.2025892819421458, 3.2025892819421453, 3.202589281591729, 3.202589281591729, 3.2025877025656797, 3.202587443692232, 3.2025853468961847, 3.202584766964418, 6.327080291781708, 5.541749697436074, 5.538426168566382, 2.42146994480629, 2.42146994480629, 2.42146994480629, 2.42146994480629, 2.4214699447526398, 2.4214699439028733, 2.4214699439028733, 2.421469462634173, 2.4214642454980684, 7.781613908341054, 4.764838391796106, 17.708760415955535, 7.825280004090722, 16.41316205303224, 25.317234433283875, 9.357010872587717, 10.006544024718062, 21.38589566644951, 26.191327233355874, 12.92121673198392, 10.665864857507653, 10.198210502185729, 5.53557669220604, 7.695679829172483, 5.204332212768212, 11.013005705844963, 13.41143176664789, 12.458631198072837, 13.043711880456422, 10.385686514530613, 6.327111987740013, 9.222092066858936, 8.972979927804875, 7.6589787530014135, 6.693859542248998, 6.976874140478747, 29.34453046215167, 10.089587638097298, 8.549188785579128, 7.008801265554802, 5.468401924008743, 4.698207093621968, 4.698200683383264, 3.928009500134822, 3.928009500134822, 3.928009500134822, 3.928009500134822, 3.9280091080099164, 3.9280087763452616, 3.928006828003818, 3.928006828003818, 3.928003894772455, 3.927997870273784, 18.800982506845184, 7.003794017316709, 3.1578115592277443, 3.157811559072075, 3.1578115588882536, 3.1578115587220683, 3.157740093975126, 6.141159251156479, 10.82021766679969, 2.387613617857932, 2.387613617772713, 2.387613617772712, 2.387613617608946, 10.089606086806585, 7.008859089103672, 35.350061146882986, 20.424671865235688, 7.008851959131016, 17.501913294626622, 7.659211443134538, 13.624952210662494, 10.48868614708411, 14.916205615864637, 8.549258887716755, 7.77903203294333, 10.089614019870861, 9.993227978731742, 16.891693636920575, 5.45235783307731, 7.00886784944534, 9.472686299187332, 6.90919672868654, 7.692047913746112, 6.73300237227116, 6.748636601413511, 6.561953629660813, 7.391420006601521, 6.5863598727428645, 8.393972271268392, 8.393968286628962, 6.125331512363068, 5.369112207043176, 5.3691086263707435, 4.61290318810657, 3.8566833480523752, 3.8566822704104027, 3.8566550508780537, 6.859338850284847, 3.1004764443136636, 3.1004764441929438, 3.1004764441671155, 3.1004764440965547, 3.1004760232315216, 3.100475891639219, 3.100475891639219, 3.100475891639219, 3.10047521727007, 3.1004702636884196, 5.369129571241026, 2.3442626773525888, 2.3442626773525888, 2.3442626772293234, 2.344262676478184, 2.344262095834581, 2.344262095834581, 2.344262095834581, 2.344261636870001, 2.344260982982745, 11.418830362798605, 3.501070492858409, 4.612922681446361, 13.489533488137164, 4.612925206692702, 13.499113113330436, 18.037221483279595, 7.582303861797119, 10.620176368984728, 13.482175161880868, 6.6080935005550705, 11.994821995970367, 10.62652192727704, 4.612980610325194, 11.757011539747, 8.145900371526063, 3.8567069950828925, 6.676398624952932, 5.808600925065988, 11.102167915531037, 7.885886553818799, 7.524542601749588, 6.551237932831582, 5.743381603721601, 10.475447918682995, 8.118590124336402, 6.125348412332853, 9.370091996432496, 6.88159387580217, 7.079518795821684, 6.097088322400842, 6.125425401698136, 6.342248120213082, 6.125263729710571, 11.396992145163388, 5.358857435762914, 5.35883360011912, 4.604088782725325, 4.604088782725325, 3.8493201297983974, 3.849319413735866, 3.0945514767741225, 3.094551476713136, 3.0945514764659383, 3.0945510026417966, 3.094549202521886, 3.0945390073161265, 3.0945275663866725, 3.0945275663866725, 3.094368291469157, 3.069032656152794, 5.358882450479235, 2.33978282384395, 2.3397821691538265, 2.3397821691538265, 2.339781003253418, 2.3397782836187617, 2.3397782836187617, 2.3397782836187617, 2.3397782580773403, 2.3397691261782656, 6.108714214937173, 6.545893089958571, 9.12671604501823, 10.621388702872292, 19.326942611331184, 24.042355017883242, 8.167038841852074, 4.591287009661151, 7.588691634370854, 18.908953989957514, 3.8486302299589044, 5.607048153763834, 7.306666805769235, 10.868129347642332, 6.113648534168355, 6.868467032457317, 5.246537125332788, 4.604179890046321, 5.328446525093156, 7.152223258959992, 5.897682726150389, 8.717650276527467, 10.55720413749543, 5.922588766958016, 6.664928285047307, 6.896548162801888, 6.049614561559102, 6.181282814865871, 5.358763698051251, 45.04224191366773, 43.54333838301855, 30.802604593107773, 9.817860800370035, 7.498848865082612, 6.070565637073653, 4.571669515808079, 4.571668211319692, 3.0727662065085894, 3.0727658030285, 3.072765559083549, 6.070595902089733, 2.323311034009022, 2.3233110339175282, 2.3233110339175282, 2.3233090047556, 2.3232802764647245, 2.323271475532232, 2.323271475532232, 34.68114250611083, 5.321144136409541, 1.573855861622031, 1.5738558615993785, 1.5738558615993785, 1.5738558615570142, 1.5738558615570142, 1.5738558615570142, 1.5738558615521336, 1.573855861537538, 1.573855861529425, 1.573855861529425, 1.573855861529425, 3.072780373607087, 12.737819750608562, 3.822205467716281, 9.817909419782687, 16.894213188418675, 3.0727444773291843, 3.0727697707881076, 2.3232208252659543, 4.770174765573381, 8.52859772512638, 21.66187351914672, 17.930142319621567, 4.972000477696316, 6.487653461193821, 3.77875088006339, 5.321224542971803, 3.822236855770213, 6.595732856945323, 4.465869254132345, 7.705333743418343, 7.548569509352481, 4.799442693300585, 5.381548348357879, 7.426041456276123, 4.571715920851011, 5.9348426320898024, 5.734408241239125, 4.884061439970952, 4.645941199684665, 4.593325008567201, 21.53727205687323, 20.765225787443136, 12.819401175624929, 7.57169214367872, 6.0723450660001035, 5.322678494563569, 4.573003627710125, 4.572995650038354, 3.8233324396402515, 3.8233324396402515, 3.8233324396402515, 3.8233038193603095, 26.18191367321335, 3.073659412260988, 3.0736589586759098, 3.0736584526341226, 3.073656096060707, 2.323986384681129, 2.3239863846120157, 2.3239857753515873, 2.3239853992571904, 2.3239828409082093, 2.3239828409082093, 2.323982791237286, 2.323981350487298, 2.323981350487298, 2.3239777864500115, 2.3239746944738715, 2.3239721903613297, 4.573010163583785, 8.95667820969805, 4.573038969451935, 4.387000900054986, 5.322719027699964, 4.573027434859969, 5.322720610232256, 18.926704088587368, 9.071200246003125, 4.410872379266202, 18.62770186086987, 7.487597350413215, 4.560296025133653, 12.027828839295402, 8.499171970997534, 6.7290088105170325, 5.169665685692876, 9.786673718518038, 8.122580314211474, 5.994504172286316, 9.898455101056317, 6.28166762516573, 6.956779547709094, 5.22390424859262, 6.453400513554682, 5.32282123711382, 5.271481440139496, 5.3707597489033665, 4.927757694527792, 6.7369445900757015, 4.515977452284299, 4.515977175637411, 4.515977175637411, 4.515977175637411, 3.775653213058999, 3.0353292247926933, 9.698326523960846, 8.217703824241154, 2.2950050235384762, 2.2950050234419104, 2.295005023426221, 2.295005023327063, 2.295005023327063, 2.2950046290592243, 2.2950046290592243, 2.2950046290592243, 2.2950046290592243, 2.2949973143570452, 2.294935887016041, 4.515998819564763, 7.4772745532400196, 1.5546808222369621, 1.5546808222366921, 1.554680822218423, 1.554680822201169, 1.5546808222011685, 1.5546808222011685, 1.5546808222011193, 1.5546808222011193, 1.5546808222011193, 1.5546808222011193, 3.0353387068266295, 3.035342016047872, 6.737018599822959, 7.379565770806362, 3.775689021002249, 4.516003331285198, 9.911163684918497, 3.0353464255154092, 5.253100859178269, 4.486990111726464, 4.509954229694777, 6.536162865657033, 3.0353729289508995, 10.201961470259109, 6.241957427070135, 8.175597212534164, 5.164059810840685, 4.516066453730167, 4.516055003973929, 7.317898802827144, 8.863361323903739, 4.027481246066607, 6.8332869206225455, 6.4302366354740785, 5.517955695028157, 5.279683830352444, 4.555866060541366], \"Total\": [45.0, 44.0, 45.0, 55.0, 31.0, 67.0, 54.0, 30.0, 29.0, 31.0, 51.0, 58.0, 22.0, 30.0, 32.0, 44.0, 21.0, 40.0, 32.0, 22.0, 49.0, 29.0, 23.0, 68.0, 31.0, 22.0, 26.0, 45.0, 29.0, 40.0, 7.915567580547059, 7.915567446662629, 6.326460903801593, 5.531908908271642, 5.531908318943379, 4.737356143012037, 4.737356143012037, 4.73735582278492, 4.7373527853037976, 10.250247942050434, 3.9428032937377364, 3.9428032937377364, 3.9428032937273234, 3.942803286502365, 3.9428026368087274, 7.875784179059907, 7.0966606094533, 7.072770624318166, 3.148250433835108, 3.1482504338343817, 3.1482504338287565, 3.1482504338236175, 3.1482504338230046, 3.1482504338192205, 3.148250433818953, 3.148250409684791, 3.14825035176986, 3.1482503988413546, 3.1482503988413546, 3.1482503988413546, 3.1482503988413546, 3.1482503988413546, 29.925227929313944, 18.915066275377193, 40.2240346279561, 6.302106939524275, 67.5623260815732, 8.65341499595365, 54.39752574994304, 24.271038431495384, 5.486811437980384, 21.88873449724296, 20.461669715374487, 8.602915500056069, 8.631668832303733, 8.594136894565269, 15.61502596659446, 7.078741826503152, 10.92382274591814, 15.517029251464656, 56.54269822044706, 73.88882577084547, 40.654146390230494, 16.47230930731223, 35.86117170624271, 18.525281086640327, 28.50731591591124, 28.500592613152403, 39.29664353777392, 20.183284774191446, 23.123924009352546, 18.477343814645693, 101.50363435095497, 39.2326944662839, 47.10817561637028, 23.247046516454255, 19.381605525755848, 22.483388954804585, 7.754298766029922, 7.75429928572832, 6.977664898626611, 6.201030855513258, 5.424396598637463, 30.181683661488634, 4.647762566600816, 4.647762566600816, 3.8711284241074417, 3.8711284241074417, 3.8711284241045307, 3.87112841086582, 3.8711284121659153, 3.871127988870744, 3.8711288015611407, 3.8724046684601188, 17.835381269496835, 3.094494281624207, 3.094494281622798, 3.094494281622798, 3.094494281622798, 3.0944942816153076, 3.0944942633287886, 3.0944942633287886, 3.09449426480631, 3.0944942936054267, 3.0944942936054267, 3.0944942936054267, 3.0944942936054267, 3.0944942936054267, 26.339242977183826, 6.17709763061858, 27.003272268383157, 26.881923718249766, 18.462369704032348, 5.442314896418439, 5.442314635544841, 20.11246719588628, 19.20266472319154, 6.954971547951118, 17.668114303788148, 13.84955081142433, 35.86117170624271, 18.393239695467564, 51.982846322927, 10.873150294622041, 17.686341120959195, 16.47230930731223, 16.855990641315433, 16.061292289351076, 24.424773914534402, 31.69112636585034, 13.239558230002837, 38.60911231492225, 15.232189304014799, 39.29664353777392, 51.40493910724778, 35.29152378686766, 68.95489147975918, 46.18055546769759, 45.49196009865414, 39.2326944662839, 12.359283543927152, 11.586303397989909, 10.040345126408676, 10.040345126408676, 6.948427368990407, 6.948427316195499, 6.175447929635748, 10.796559577765425, 4.629489050924645, 4.629489050921329, 4.629488607523501, 3.856509611566512, 3.8565096115615827, 3.856509587188267, 11.602583529136245, 7.695963828161727, 3.08353017221864, 3.0835301722181883, 3.0835301722181883, 3.0835301722181883, 3.0835301722181883, 3.0835301722181883, 3.0835301722181883, 3.0835301722169213, 3.0835301722169213, 3.0835301722169213, 3.0835301722169213, 3.083530172216202, 3.0835301722157524, 3.0835301722157524, 9.272723885290514, 6.197020280015355, 5.384257980828633, 20.76742411124087, 7.738369934759396, 5.424041197834107, 15.306808692486902, 24.55192870798633, 23.857858298577217, 13.144640036581789, 68.95489147975918, 16.25343728274974, 14.739405796761524, 12.373507336112777, 21.633477966419218, 101.50363435095497, 35.29152378686766, 33.756681182408244, 76.96339515759696, 20.04112016785407, 13.82588344848771, 15.441342532566244, 21.33535707359821, 21.69644292018681, 21.457639866556296, 15.265661176701203, 56.54269822044706, 42.63296960545593, 44.303329784713554, 51.982846322927, 23.12853533646761, 54.39752574994304, 32.16952553511675, 29.66600720683156, 10.138023754993892, 8.575785154084752, 7.013546428474656, 7.0135462030941405, 14.81954008944452, 6.232426513909047, 5.451307834648146, 23.329236561135104, 4.670188561346513, 3.8890692028830096, 3.889069202883011, 3.889069202874062, 3.889069202874062, 3.88906923004241, 3.889069194373484, 3.889069246504374, 3.8890690210131376, 7.753871751219148, 6.9817122293156535, 7.009018125170571, 3.1079498657010944, 3.1079498657010944, 3.1079498657010944, 3.1079498657010944, 3.107949865699726, 3.1079498656780102, 3.1079498656780102, 3.107949846156099, 3.1079496362623225, 10.070829212614735, 6.191632735355848, 24.826115896761596, 11.589841187690524, 27.909647334006884, 49.87945414640645, 15.49837649141018, 16.921583799505207, 45.49196009865414, 58.747117751940735, 24.475780131927372, 20.979030158252314, 21.40965691975353, 9.23026385377787, 17.011051412165866, 9.29327146479324, 38.60911231492225, 56.54269822044706, 51.40493910724778, 73.88882577084547, 47.10817561637028, 13.885559725856057, 54.39752574994304, 67.5623260815732, 41.264856163273826, 21.043585526121223, 101.50363435095497, 30.03211349327149, 10.777165126578433, 9.236769131386486, 7.69637332678696, 6.155977487695999, 5.385779505491296, 5.385779649467233, 4.615581561173009, 4.615581561173009, 4.615581561173009, 4.615581561173009, 4.6155815667376, 4.615581563787611, 4.615581564383582, 4.615581564383582, 4.6155814489393165, 4.615581385708577, 22.278541153464577, 8.473049056682774, 3.8453836197741147, 3.8453836197725124, 3.8453836197706286, 3.845383619768923, 3.845384479529592, 7.7086748064350505, 13.78240633428036, 3.0751856783704596, 3.0751856783695852, 3.0751856783695843, 3.0751856783679066, 13.067821078030642, 9.217818000908924, 55.079661521786356, 32.13880049037134, 10.06659698879482, 31.31597187772486, 11.493611412144785, 25.372471374076902, 18.585189111348843, 31.285613749252423, 14.515304708577645, 13.053664850119803, 21.46449221052997, 22.16460280972042, 58.747117751940735, 8.465593866959804, 13.73437153347614, 38.60911231492225, 20.65886396480081, 33.756681182408244, 23.856727414107475, 25.077881610482365, 24.528224735187614, 101.50363435095497, 68.95489147975918, 9.08294328694186, 9.082943371309144, 6.814301990620822, 6.058088212980927, 6.0580883855103895, 5.3018744549969385, 4.545661037407867, 4.545660674276959, 4.5456613396375305, 8.319773006135774, 3.7894469223944465, 3.7894469223956646, 3.7894469223959284, 3.7894469223966345, 3.789446931730556, 3.789446917459078, 3.789446917459078, 3.789446917459078, 3.7894469200486527, 3.7894470630592463, 6.852640192508887, 3.0332331553373204, 3.0332331553373204, 3.0332331553385665, 3.0332331553461334, 3.0332331682290814, 3.0332331682290814, 3.0332331682290814, 3.033233183424548, 3.0332331520993434, 15.18858963480451, 4.563690164681984, 6.0515476511426245, 18.33486086482419, 6.074853688725064, 19.839402830889306, 29.694334081374723, 11.415605967082623, 16.789169554989023, 23.605473790844933, 9.968038000767223, 22.202808678270436, 20.55335185539425, 6.821527937702998, 28.191623909179867, 16.855990641315433, 5.326779480206148, 12.96569485744757, 10.569716503734968, 32.13880049037134, 20.512452860211816, 19.20266472319154, 16.80727222949266, 12.258060649196308, 55.079661521786356, 32.16952553511675, 16.061292289351076, 76.96339515759696, 26.881923718249766, 45.141884192569705, 17.573083451430616, 19.77493784585537, 39.29664353777392, 31.31597187772486, 12.086122135147447, 6.047972425170951, 6.047972885909496, 5.293203772171308, 5.293203772171308, 4.538435119170305, 4.538435128209474, 3.7836664661704953, 3.7836664661712414, 3.783666466174276, 3.7836664758612293, 3.783666512659479, 3.7836665675364474, 3.783666961258105, 3.783666961258105, 3.7836705925709877, 3.785010992300563, 6.82909087787601, 3.028897813169522, 3.0288978265502786, 3.0288978265502786, 3.0288978767234616, 3.0288977825199908, 3.0288977825199908, 3.0288977825199908, 3.0288977810301096, 3.0288975728804344, 8.340082881492085, 9.054149738964922, 12.852222384376137, 15.198626111214702, 32.740760296419516, 44.303329784713554, 13.731390361635329, 6.839471672340754, 12.995117871726684, 46.44809625617066, 6.050899675576634, 10.682338054238286, 18.267714598178188, 42.63296960545593, 15.299165750926147, 19.77493784585537, 12.132982447565304, 9.13848207618542, 14.56512501341823, 31.31597187772486, 19.381605525755848, 55.079661521786356, 101.50363435095497, 21.457639866556296, 39.2326944662839, 73.88882577084547, 47.10817561637028, 76.96339515759696, 56.54269822044706, 45.73190259066098, 44.23299198530911, 31.492254046533827, 10.507509186526093, 8.262128346954713, 6.760233413008468, 5.261323080370365, 5.261322989389918, 3.7624125439609593, 3.762412544079041, 3.7624125642821222, 7.541352046242427, 3.012957371515349, 3.0129573715172073, 3.0129573715172073, 3.0129573898166644, 3.01295788160376, 3.012957595029595, 3.012957595029595, 45.141884192569705, 7.55117362673731, 2.2635021990674327, 2.263502199067892, 2.263502199067892, 2.2635021990687503, 2.2635021990687503, 2.2635021990687503, 2.2635021990688466, 2.2635021990691464, 2.2635021990693107, 2.2635021990693107, 2.2635021990693107, 4.539046172665698, 20.52712031438855, 6.024295916407562, 18.248265876016326, 40.654146390230494, 5.257506054472194, 5.30837134209337, 3.7626354458681934, 9.804369109957092, 21.33535707359821, 101.50363435095497, 76.96339515759696, 11.395159777339122, 19.0109164113351, 7.60880429852666, 15.193907293327884, 8.338411796661713, 26.819072104945867, 12.042836283709837, 42.63296960545593, 51.40493910724778, 16.039516550192072, 23.8472853249863, 73.88882577084547, 15.2408480383758, 46.18055546769759, 46.44809625617066, 23.827090006818544, 33.06440299677347, 28.500592613152403, 22.521685346772536, 21.77331869166606, 13.50903341104029, 8.261322251904524, 6.761976251131284, 6.012303046849123, 5.262630069683651, 5.262630286900505, 4.5129569917985375, 4.5129569917985375, 4.5129569917985375, 4.512957765963691, 31.625734743813705, 3.763283964271589, 3.763283968229397, 3.763283998779134, 3.7632839672888236, 3.0136109367486594, 3.0136109367500423, 3.0136109420649357, 3.0136109673818385, 3.013611033770234, 3.013611033770234, 3.0136110185573566, 3.0136110329131243, 3.0136110329131243, 3.013611297414723, 3.0136112568067315, 3.0136113130770643, 6.012085701590179, 12.021400416546992, 6.035608417114872, 6.042019830870091, 7.507396013367142, 6.761540871641989, 8.373935138086814, 41.264856163273826, 16.684642640108734, 6.827184557460015, 51.982846322927, 15.232189304014799, 8.32151828548485, 46.18055546769759, 25.077881610482365, 19.77050019700594, 12.824613979339611, 68.95489147975918, 45.49196009865414, 18.99026865362895, 101.50363435095497, 28.50731591591124, 49.87945414640645, 16.734068173622155, 73.88882577084547, 19.76679482169964, 24.424773914534402, 58.747117751940735, 15.372909235273841, 7.427509792511618, 5.206537069585449, 5.206537074983673, 5.206537074983673, 5.206537074983673, 4.466212869978187, 3.7258886593023273, 11.964473528994924, 10.435904085090751, 2.9855644580207104, 2.9855644580240592, 2.9855644580246037, 2.9855644580280467, 2.9855644580280467, 2.985564486913222, 2.985564486913222, 2.985564486913222, 2.985564486913222, 2.985565022704371, 2.985567762459502, 5.983170155913163, 10.486771557495885, 2.245240256740715, 2.2452402567407237, 2.245240256741364, 2.245240256741958, 2.2452402567419574, 2.2452402567419574, 2.2452402567419574, 2.2452402567419574, 2.2452402567419574, 2.2452402567419574, 4.480657138410095, 4.502522160392135, 11.343247440540283, 12.73423210997834, 6.033742473821775, 7.54989364521495, 20.571958126423585, 5.230330065617894, 11.267127072999273, 9.051470258788422, 9.788528797773619, 21.182221830913363, 5.290636914454343, 68.95489147975918, 24.475780131927372, 46.18055546769759, 18.259323929567408, 13.742167571989748, 15.17128288020194, 49.87945414640645, 101.50363435095497, 11.541332640917702, 73.88882577084547, 76.96339515759696, 56.54269822044706, 51.40493910724778, 33.06440299677347], \"Category\": [\"Default\", \"Default\", \"Default\", \"Default\", \"Default\", \"Default\", \"Default\", \"Default\", \"Default\", \"Default\", \"Default\", \"Default\", \"Default\", \"Default\", \"Default\", \"Default\", \"Default\", \"Default\", \"Default\", \"Default\", \"Default\", \"Default\", \"Default\", \"Default\", \"Default\", \"Default\", \"Default\", \"Default\", \"Default\", \"Default\", \"Topic1\", \"Topic1\", \"Topic1\", \"Topic1\", \"Topic1\", \"Topic1\", \"Topic1\", \"Topic1\", \"Topic1\", \"Topic1\", \"Topic1\", \"Topic1\", \"Topic1\", \"Topic1\", \"Topic1\", \"Topic1\", \"Topic1\", \"Topic1\", \"Topic1\", \"Topic1\", \"Topic1\", \"Topic1\", \"Topic1\", \"Topic1\", \"Topic1\", \"Topic1\", \"Topic1\", \"Topic1\", \"Topic1\", \"Topic1\", \"Topic1\", \"Topic1\", \"Topic1\", \"Topic1\", \"Topic1\", \"Topic1\", \"Topic1\", \"Topic1\", \"Topic1\", \"Topic1\", \"Topic1\", \"Topic1\", \"Topic1\", \"Topic1\", \"Topic1\", \"Topic1\", \"Topic1\", \"Topic1\", \"Topic1\", \"Topic1\", \"Topic1\", \"Topic1\", \"Topic1\", \"Topic1\", \"Topic1\", \"Topic1\", \"Topic1\", \"Topic1\", \"Topic1\", \"Topic1\", \"Topic1\", \"Topic1\", \"Topic1\", \"Topic1\", \"Topic1\", \"Topic1\", \"Topic1\", \"Topic2\", \"Topic2\", \"Topic2\", \"Topic2\", \"Topic2\", \"Topic2\", \"Topic2\", \"Topic2\", \"Topic2\", \"Topic2\", \"Topic2\", \"Topic2\", \"Topic2\", \"Topic2\", \"Topic2\", \"Topic2\", \"Topic2\", \"Topic2\", \"Topic2\", \"Topic2\", \"Topic2\", \"Topic2\", \"Topic2\", \"Topic2\", \"Topic2\", \"Topic2\", \"Topic2\", \"Topic2\", \"Topic2\", \"Topic2\", \"Topic2\", \"Topic2\", \"Topic2\", \"Topic2\", \"Topic2\", \"Topic2\", \"Topic2\", \"Topic2\", \"Topic2\", \"Topic2\", \"Topic2\", \"Topic2\", \"Topic2\", \"Topic2\", \"Topic2\", \"Topic2\", \"Topic2\", \"Topic2\", \"Topic2\", \"Topic2\", \"Topic2\", \"Topic2\", \"Topic2\", \"Topic2\", \"Topic2\", \"Topic2\", \"Topic2\", \"Topic2\", \"Topic2\", \"Topic2\", \"Topic2\", \"Topic2\", \"Topic2\", \"Topic3\", \"Topic3\", \"Topic3\", \"Topic3\", \"Topic3\", \"Topic3\", \"Topic3\", \"Topic3\", \"Topic3\", \"Topic3\", \"Topic3\", \"Topic3\", \"Topic3\", \"Topic3\", \"Topic3\", \"Topic3\", \"Topic3\", \"Topic3\", \"Topic3\", \"Topic3\", \"Topic3\", \"Topic3\", \"Topic3\", \"Topic3\", \"Topic3\", \"Topic3\", \"Topic3\", \"Topic3\", \"Topic3\", \"Topic3\", \"Topic3\", \"Topic3\", \"Topic3\", \"Topic3\", \"Topic3\", \"Topic3\", \"Topic3\", \"Topic3\", \"Topic3\", \"Topic3\", \"Topic3\", \"Topic3\", \"Topic3\", \"Topic3\", \"Topic3\", \"Topic3\", \"Topic3\", \"Topic3\", \"Topic3\", \"Topic3\", \"Topic3\", \"Topic3\", \"Topic3\", \"Topic3\", \"Topic3\", \"Topic3\", \"Topic3\", \"Topic3\", \"Topic3\", \"Topic3\", \"Topic3\", \"Topic3\", \"Topic3\", \"Topic4\", \"Topic4\", \"Topic4\", \"Topic4\", \"Topic4\", \"Topic4\", \"Topic4\", \"Topic4\", \"Topic4\", \"Topic4\", \"Topic4\", \"Topic4\", \"Topic4\", \"Topic4\", \"Topic4\", \"Topic4\", \"Topic4\", \"Topic4\", \"Topic4\", \"Topic4\", \"Topic4\", \"Topic4\", \"Topic4\", \"Topic4\", \"Topic4\", \"Topic4\", \"Topic4\", \"Topic4\", \"Topic4\", \"Topic4\", \"Topic4\", \"Topic4\", \"Topic4\", \"Topic4\", \"Topic4\", \"Topic4\", \"Topic4\", \"Topic4\", \"Topic4\", \"Topic4\", \"Topic4\", \"Topic4\", \"Topic4\", \"Topic4\", \"Topic4\", \"Topic4\", \"Topic4\", \"Topic4\", \"Topic4\", \"Topic4\", \"Topic4\", \"Topic4\", \"Topic4\", \"Topic4\", \"Topic4\", \"Topic4\", \"Topic4\", \"Topic5\", \"Topic5\", \"Topic5\", \"Topic5\", \"Topic5\", \"Topic5\", \"Topic5\", \"Topic5\", \"Topic5\", \"Topic5\", \"Topic5\", \"Topic5\", \"Topic5\", \"Topic5\", \"Topic5\", \"Topic5\", \"Topic5\", \"Topic5\", \"Topic5\", \"Topic5\", \"Topic5\", \"Topic5\", \"Topic5\", \"Topic5\", \"Topic5\", \"Topic5\", \"Topic5\", \"Topic5\", \"Topic5\", \"Topic5\", \"Topic5\", \"Topic5\", \"Topic5\", \"Topic5\", \"Topic5\", \"Topic5\", \"Topic5\", \"Topic5\", \"Topic5\", \"Topic5\", \"Topic5\", \"Topic5\", \"Topic5\", \"Topic5\", \"Topic5\", \"Topic5\", \"Topic5\", \"Topic5\", \"Topic5\", \"Topic5\", \"Topic5\", \"Topic5\", \"Topic5\", \"Topic5\", \"Topic5\", \"Topic6\", \"Topic6\", \"Topic6\", \"Topic6\", \"Topic6\", \"Topic6\", \"Topic6\", \"Topic6\", \"Topic6\", \"Topic6\", \"Topic6\", \"Topic6\", \"Topic6\", \"Topic6\", \"Topic6\", \"Topic6\", \"Topic6\", \"Topic6\", \"Topic6\", \"Topic6\", \"Topic6\", \"Topic6\", \"Topic6\", \"Topic6\", \"Topic6\", \"Topic6\", \"Topic6\", \"Topic6\", \"Topic6\", \"Topic6\", \"Topic6\", \"Topic6\", \"Topic6\", \"Topic6\", \"Topic6\", \"Topic6\", \"Topic6\", \"Topic6\", \"Topic6\", \"Topic6\", \"Topic6\", \"Topic6\", \"Topic6\", \"Topic6\", \"Topic6\", \"Topic6\", \"Topic6\", \"Topic6\", \"Topic6\", \"Topic6\", \"Topic6\", \"Topic6\", \"Topic6\", \"Topic6\", \"Topic6\", \"Topic6\", \"Topic6\", \"Topic6\", \"Topic6\", \"Topic6\", \"Topic6\", \"Topic6\", \"Topic6\", \"Topic6\", \"Topic7\", \"Topic7\", \"Topic7\", \"Topic7\", \"Topic7\", \"Topic7\", \"Topic7\", \"Topic7\", \"Topic7\", \"Topic7\", \"Topic7\", \"Topic7\", \"Topic7\", \"Topic7\", \"Topic7\", \"Topic7\", \"Topic7\", \"Topic7\", \"Topic7\", \"Topic7\", \"Topic7\", \"Topic7\", \"Topic7\", \"Topic7\", \"Topic7\", \"Topic7\", \"Topic7\", \"Topic7\", \"Topic7\", \"Topic7\", \"Topic7\", \"Topic7\", \"Topic7\", \"Topic7\", \"Topic7\", \"Topic7\", \"Topic7\", \"Topic7\", \"Topic7\", \"Topic7\", \"Topic7\", \"Topic7\", \"Topic7\", \"Topic7\", \"Topic7\", \"Topic7\", \"Topic7\", \"Topic7\", \"Topic7\", \"Topic7\", \"Topic7\", \"Topic7\", \"Topic7\", \"Topic7\", \"Topic7\", \"Topic7\", \"Topic8\", \"Topic8\", \"Topic8\", \"Topic8\", \"Topic8\", \"Topic8\", \"Topic8\", \"Topic8\", \"Topic8\", \"Topic8\", \"Topic8\", \"Topic8\", \"Topic8\", \"Topic8\", \"Topic8\", \"Topic8\", \"Topic8\", \"Topic8\", \"Topic8\", \"Topic8\", \"Topic8\", \"Topic8\", \"Topic8\", \"Topic8\", \"Topic8\", \"Topic8\", \"Topic8\", \"Topic8\", \"Topic8\", \"Topic8\", \"Topic8\", \"Topic8\", \"Topic8\", \"Topic8\", \"Topic8\", \"Topic8\", \"Topic8\", \"Topic8\", \"Topic8\", \"Topic8\", \"Topic8\", \"Topic8\", \"Topic8\", \"Topic8\", \"Topic8\", \"Topic8\", \"Topic8\", \"Topic8\", \"Topic8\", \"Topic8\", \"Topic8\", \"Topic8\", \"Topic8\", \"Topic8\", \"Topic8\", \"Topic8\", \"Topic8\", \"Topic8\", \"Topic8\", \"Topic8\", \"Topic8\", \"Topic8\", \"Topic9\", \"Topic9\", \"Topic9\", \"Topic9\", \"Topic9\", \"Topic9\", \"Topic9\", \"Topic9\", \"Topic9\", \"Topic9\", \"Topic9\", \"Topic9\", \"Topic9\", \"Topic9\", \"Topic9\", \"Topic9\", \"Topic9\", \"Topic9\", \"Topic9\", \"Topic9\", \"Topic9\", \"Topic9\", \"Topic9\", \"Topic9\", \"Topic9\", \"Topic9\", \"Topic9\", \"Topic9\", \"Topic9\", \"Topic9\", \"Topic9\", \"Topic9\", \"Topic9\", \"Topic9\", \"Topic9\", \"Topic9\", \"Topic9\", \"Topic9\", \"Topic9\", \"Topic9\", \"Topic9\", \"Topic9\", \"Topic9\", \"Topic9\", \"Topic9\", \"Topic9\", \"Topic9\", \"Topic9\", \"Topic9\", \"Topic9\", \"Topic9\", \"Topic9\", \"Topic9\", \"Topic9\", \"Topic9\", \"Topic9\", \"Topic9\", \"Topic9\", \"Topic10\", \"Topic10\", \"Topic10\", \"Topic10\", \"Topic10\", \"Topic10\", \"Topic10\", \"Topic10\", \"Topic10\", \"Topic10\", \"Topic10\", \"Topic10\", \"Topic10\", \"Topic10\", \"Topic10\", \"Topic10\", \"Topic10\", \"Topic10\", \"Topic10\", \"Topic10\", \"Topic10\", \"Topic10\", \"Topic10\", \"Topic10\", \"Topic10\", \"Topic10\", \"Topic10\", \"Topic10\", \"Topic10\", \"Topic10\", \"Topic10\", \"Topic10\", \"Topic10\", \"Topic10\", \"Topic10\", \"Topic10\", \"Topic10\", \"Topic10\", \"Topic10\", \"Topic10\", \"Topic10\", \"Topic10\", \"Topic10\", \"Topic10\", \"Topic10\", \"Topic10\", \"Topic10\", \"Topic10\", \"Topic10\", \"Topic10\", \"Topic10\", \"Topic10\", \"Topic10\", \"Topic10\", \"Topic10\", \"Topic10\", \"Topic10\", \"Topic10\", \"Topic10\"], \"logprob\": [30.0, 29.0, 28.0, 27.0, 26.0, 25.0, 24.0, 23.0, 22.0, 21.0, 20.0, 19.0, 18.0, 17.0, 16.0, 15.0, 14.0, 13.0, 12.0, 11.0, 10.0, 9.0, 8.0, 7.0, 6.0, 5.0, 4.0, 3.0, 2.0, 1.0, -5.8669, -5.8669, -6.115, -6.2668, -6.2668, -6.4459, -6.4459, -6.4459, -6.4459, -5.6892, -6.6641, -6.6641, -6.6641, -6.6641, -6.6642, -5.9833, -6.115, -6.1249, -6.9437, -6.9437, -6.9437, -6.9437, -6.9437, -6.9437, -6.9437, -6.9437, -6.9437, -6.9437, -6.9437, -6.9437, -6.9437, -6.9437, -4.7261, -5.1792, -4.4649, -6.2668, -4.0515, -5.9864, -4.2617, -5.0411, -6.4459, -5.2402, -5.3196, -6.079, -6.1194, -6.1246, -5.7317, -6.2668, -5.991, -5.7626, -5.021, -4.8788, -5.2976, -5.7858, -5.398, -5.7724, -5.6898, -5.7386, -5.6403, -5.8668, -5.8353, -5.9003, -5.5164, -5.7417, -5.8075, -5.9152, -5.9286, -4.7182, -5.8095, -5.8095, -5.9259, -6.0576, -6.2095, -4.4982, -6.3885, -6.3885, -6.6068, -6.6068, -6.6068, -6.6068, -6.6068, -6.6068, -6.6068, -6.6243, -5.1301, -6.8863, -6.8863, -6.8863, -6.8863, -6.8863, -6.8863, -6.8863, -6.8863, -6.8863, -6.8863, -6.8863, -6.8863, -6.8863, -4.8064, -6.2251, -4.9233, -4.9685, -5.303, -6.3885, -6.3885, -5.303, -5.361, -6.2095, -5.4652, -5.7052, -4.9708, -5.5209, -4.8201, -5.9355, -5.6269, -5.6825, -5.6733, -5.7052, -5.4544, -5.3347, -5.9259, -5.468, -5.9121, -5.6447, -5.6166, -5.7623, -5.6638, -5.7472, -5.8139, -5.8396, -5.2942, -5.3628, -5.5157, -5.5157, -5.9171, -5.9171, -6.0488, -5.5157, -6.3797, -6.3797, -6.3797, -6.598, -6.598, -6.598, -5.5157, -5.9285, -6.8775, -6.8775, -6.8775, -6.8775, -6.8775, -6.8775, -6.8775, -6.8775, -6.8775, -6.8775, -6.8775, -6.8775, -6.8775, -6.8775, -5.8007, -6.2007, -6.3797, -5.1831, -6.0607, -6.3797, -5.5157, -5.1489, -5.1807, -5.6964, -4.4679, -5.5853, -5.6964, -5.8352, -5.4616, -4.5658, -5.2565, -5.2843, -4.8143, -5.6066, -5.8267, -5.7777, -5.6308, -5.6637, -5.702, -5.8007, -5.4678, -5.5555, -5.5605, -5.5388, -5.709, -5.5949, -5.6763, -4.3706, -5.491, -5.6717, -5.8924, -5.8924, -5.1545, -6.0242, -6.176, -4.743, -6.355, -6.5733, -6.5733, -6.5733, -6.5733, -6.5733, -6.5733, -6.5733, -6.5733, -5.8924, -6.0249, -6.0255, -6.8528, -6.8528, -6.8528, -6.8528, -6.8528, -6.8528, -6.8528, -6.8528, -6.8528, -5.6855, -6.176, -4.8632, -5.6799, -4.9391, -4.5057, -5.5011, -5.434, -4.6745, -4.4718, -5.1783, -5.3702, -5.415, -6.026, -5.6966, -6.0877, -5.3381, -5.1411, -5.2148, -5.1689, -5.3968, -5.8924, -5.5156, -5.543, -5.7013, -5.836, -5.7946, -4.3369, -5.4045, -5.5702, -5.7688, -6.017, -6.1688, -6.1688, -6.3479, -6.3479, -6.3479, -6.3479, -6.3479, -6.3479, -6.3479, -6.3479, -6.3479, -6.3479, -4.7821, -5.7695, -6.5661, -6.5661, -6.5661, -6.5661, -6.5661, -5.901, -5.3346, -6.8457, -6.8457, -6.8457, -6.8457, -5.4045, -5.7688, -4.1507, -4.6992, -5.7688, -4.8537, -5.6801, -5.1041, -5.3657, -5.0135, -5.5701, -5.6646, -5.4045, -5.4141, -4.8892, -6.0199, -5.7688, -5.4676, -5.7831, -5.6758, -5.809, -5.8067, -5.8347, -5.7157, -5.831, -5.4645, -5.4645, -5.7796, -5.9114, -5.9114, -6.0632, -6.2423, -6.2423, -6.2423, -5.6665, -6.4605, -6.4605, -6.4605, -6.4605, -6.4605, -6.4605, -6.4605, -6.4605, -6.4605, -6.4605, -5.9114, -6.7401, -6.7401, -6.7401, -6.7401, -6.7401, -6.7401, -6.7401, -6.7401, -6.7401, -5.1568, -6.339, -6.0632, -4.9901, -6.0632, -4.9894, -4.6996, -5.5662, -5.2293, -4.9907, -5.7038, -5.1076, -5.2287, -6.0632, -5.1276, -5.4945, -6.2422, -5.6935, -5.8327, -5.1849, -5.527, -5.5739, -5.7124, -5.844, -5.243, -5.4979, -5.7796, -5.3545, -5.6632, -5.6349, -5.7843, -5.7796, -5.7448, -5.7796, -5.1411, -5.8957, -5.8957, -6.0475, -6.0475, -6.2266, -6.2266, -6.4449, -6.4449, -6.4449, -6.4449, -6.4449, -6.4449, -6.4449, -6.4449, -6.4449, -6.4531, -5.8957, -6.7244, -6.7244, -6.7244, -6.7244, -6.7244, -6.7244, -6.7244, -6.7244, -6.7244, -5.7648, -5.6957, -5.3633, -5.2116, -4.613, -4.3947, -5.4744, -6.0503, -5.5478, -4.6349, -6.2268, -5.8505, -5.5857, -5.1887, -5.764, -5.6476, -5.9169, -6.0475, -5.9014, -5.6071, -5.7999, -5.4091, -5.2177, -5.7957, -5.6776, -5.6435, -5.7745, -5.753, -5.8958, -3.7433, -3.7771, -4.1233, -5.2667, -5.5361, -5.7474, -6.031, -6.031, -6.4283, -6.4283, -6.4283, -5.7474, -6.7079, -6.7079, -6.7079, -6.7079, -6.7079, -6.7079, -6.7079, -4.0047, -5.8792, -7.0973, -7.0973, -7.0973, -7.0973, -7.0973, -7.0973, -7.0973, -7.0973, -7.0973, -7.0973, -7.0973, -6.4283, -5.0063, -6.21, -5.2666, -4.7239, -6.4283, -6.4283, -6.7079, -5.9885, -5.4074, -4.4753, -4.6644, -5.947, -5.681, -6.2215, -5.8792, -6.21, -5.6644, -6.0544, -5.5089, -5.5295, -5.9824, -5.8679, -5.5459, -6.031, -5.77, -5.8044, -5.9649, -6.0149, -6.0262, -4.4641, -4.5006, -4.9829, -5.5095, -5.7301, -5.8619, -6.0137, -6.0137, -6.1927, -6.1927, -6.1927, -6.1928, -4.2688, -6.411, -6.411, -6.411, -6.411, -6.6906, -6.6906, -6.6906, -6.6906, -6.6906, -6.6906, -6.6906, -6.6906, -6.6906, -6.6906, -6.6906, -6.6906, -6.0137, -5.3415, -6.0137, -6.0552, -5.8619, -6.0137, -5.8619, -4.5933, -5.3288, -6.0498, -4.6092, -5.5206, -6.0165, -5.0466, -5.3939, -5.6274, -5.8911, -5.2528, -5.4392, -5.743, -5.2415, -5.6962, -5.5942, -5.8806, -5.6693, -5.8619, -5.8716, -5.8529, -5.939, -5.5616, -5.9616, -5.9616, -5.9616, -5.9616, -6.1406, -6.3589, -5.1972, -5.3629, -6.6385, -6.6385, -6.6385, -6.6385, -6.6385, -6.6385, -6.6385, -6.6385, -6.6385, -6.6385, -6.6385, -5.9616, -5.4573, -7.0279, -7.0279, -7.0279, -7.0279, -7.0279, -7.0279, -7.0279, -7.0279, -7.0279, -7.0279, -6.3589, -6.3589, -5.5616, -5.4705, -6.1406, -5.9616, -5.1755, -6.3589, -5.8104, -5.968, -5.9629, -5.5918, -6.3589, -5.1466, -5.6379, -5.368, -5.8275, -5.9616, -5.9616, -5.4789, -5.2873, -6.0761, -5.5474, -5.6082, -5.7612, -5.8053, -5.9528], \"loglift\": [30.0, 29.0, 28.0, 27.0, 26.0, 25.0, 24.0, 23.0, 22.0, 21.0, 20.0, 19.0, 18.0, 17.0, 16.0, 15.0, 14.0, 13.0, 12.0, 11.0, 10.0, 9.0, 8.0, 7.0, 6.0, 5.0, 4.0, 3.0, 2.0, 1.0, 2.0273, 2.0273, 2.0033, 1.9857, 1.9857, 1.9617, 1.9617, 1.9617, 1.9616, 1.9465, 1.927, 1.927, 1.927, 1.927, 1.927, 1.916, 1.8884, 1.8819, 1.8725, 1.8725, 1.8725, 1.8725, 1.8725, 1.8725, 1.8725, 1.8725, 1.8725, 1.8725, 1.8725, 1.8725, 1.8725, 1.8725, 1.8382, 1.8439, 1.8036, 1.8553, 1.6984, 1.8187, 1.705, 1.7326, 1.8148, 1.6369, 1.6249, 1.7319, 1.6882, 1.6873, 1.4831, 1.7391, 1.581, 1.4585, 0.9071, 0.7817, 0.9604, 1.3755, 0.9854, 1.2714, 0.9231, 0.8745, 0.6516, 1.0914, 0.9869, 1.1462, -0.1735, 0.5518, 0.3031, 0.9016, 1.0701, 2.132, 2.1053, 2.1053, 2.0944, 2.0807, 2.0627, 2.0576, 2.0381, 2.0381, 2.0027, 2.0027, 2.0027, 2.0027, 2.0027, 2.0027, 2.0027, 1.9849, 1.9518, 1.9471, 1.9471, 1.9471, 1.9471, 1.9471, 1.9471, 1.9471, 1.9471, 1.9471, 1.9471, 1.9471, 1.9471, 1.9471, 1.8856, 1.9171, 1.7438, 1.7031, 1.7442, 1.8803, 1.8803, 1.6587, 1.647, 1.8141, 1.626, 1.6296, 1.4125, 1.5301, 1.192, 1.6413, 1.4633, 1.4788, 1.465, 1.4814, 1.313, 1.1723, 1.4539, 0.8416, 1.3275, 0.6472, 0.4067, 0.6371, 0.0658, 0.3833, 0.3316, 0.4539, 2.1544, 2.1504, 2.1407, 2.1407, 2.1074, 2.1074, 2.0936, 2.0681, 2.0509, 2.0509, 2.0509, 2.0153, 2.0153, 2.0153, 1.9961, 1.9939, 1.9594, 1.9594, 1.9594, 1.9594, 1.9594, 1.9594, 1.9594, 1.9594, 1.9594, 1.9594, 1.9594, 1.9594, 1.9594, 1.9594, 1.9353, 1.9383, 1.8998, 1.7466, 1.8561, 1.8925, 1.719, 1.6134, 1.6102, 1.6906, 1.2617, 1.5894, 1.5761, 1.6123, 1.4272, 0.7772, 1.1429, 1.1596, 0.8054, 1.3587, 1.5098, 1.4483, 1.2718, 1.2221, 1.1949, 1.4368, 0.4602, 0.6549, 0.6115, 0.4733, 1.113, 0.3718, 0.8157, 2.2024, 2.1557, 2.1424, 2.1228, 2.1228, 2.1126, 2.1091, 2.0912, 2.0703, 2.0668, 2.0316, 2.0316, 2.0316, 2.0316, 2.0316, 2.0316, 2.0316, 2.0316, 2.0225, 1.9948, 1.9903, 1.9762, 1.9762, 1.9762, 1.9762, 1.9762, 1.9762, 1.9762, 1.9762, 1.9762, 1.9679, 1.9639, 1.888, 1.833, 1.6949, 1.5477, 1.7212, 1.7005, 1.471, 1.418, 1.587, 1.5493, 1.4842, 1.7145, 1.4326, 1.646, 0.9714, 0.7869, 0.8085, 0.4916, 0.7138, 1.4398, 0.4511, 0.207, 0.5417, 1.0804, -0.4517, 2.2239, 2.1811, 2.1697, 2.1535, 2.1286, 2.1105, 2.1105, 2.0857, 2.0857, 2.0857, 2.0857, 2.0857, 2.0857, 2.0857, 2.0857, 2.0857, 2.0857, 2.0773, 2.0566, 2.05, 2.05, 2.05, 2.05, 2.05, 2.0197, 2.0051, 1.994, 1.994, 1.994, 1.994, 1.9884, 1.9731, 1.8036, 1.7937, 1.885, 1.6652, 1.8412, 1.6253, 1.675, 1.5063, 1.7177, 1.7294, 1.4921, 1.4504, 1.0006, 1.8071, 1.5743, 0.842, 1.1517, 0.768, 0.982, 0.9344, 0.9285, -0.3727, -0.1014, 2.2921, 2.2921, 2.2644, 2.2502, 2.2502, 2.2318, 2.2066, 2.2066, 2.2066, 2.1779, 2.1703, 2.1703, 2.1703, 2.1703, 2.1703, 2.1703, 2.1703, 2.1703, 2.1703, 2.1703, 2.127, 2.1133, 2.1133, 2.1133, 2.1133, 2.1133, 2.1133, 2.1133, 2.1133, 2.1133, 2.0857, 2.1059, 2.0995, 2.0641, 2.0957, 1.9859, 1.8724, 1.9618, 1.913, 1.8109, 1.9599, 1.7552, 1.7113, 1.9798, 1.4964, 1.6438, 2.048, 1.7072, 1.7723, 1.308, 1.415, 1.4341, 1.4288, 1.6128, 0.7112, 0.9941, 1.407, 0.2652, 1.0084, 0.5184, 1.3124, 1.199, 0.5471, 0.7393, 2.3298, 2.2676, 2.2676, 2.2491, 2.2491, 2.2238, 2.2238, 2.1875, 2.1875, 2.1875, 2.1875, 2.1875, 2.1875, 2.1875, 2.1875, 2.1874, 2.1788, 2.1461, 2.1304, 2.1304, 2.1304, 2.1304, 2.1304, 2.1304, 2.1304, 2.1304, 2.1304, 2.0772, 2.0641, 2.0462, 2.0302, 1.8614, 1.7773, 1.869, 1.99, 1.8506, 1.4898, 1.936, 1.744, 1.4722, 1.0217, 1.4713, 1.3311, 1.5502, 1.703, 1.383, 0.9118, 1.1988, 0.5451, 0.1252, 1.1012, 0.6159, 0.017, 0.3361, -0.1333, 0.0323, 2.397, 2.3965, 2.39, 2.3443, 2.3152, 2.3046, 2.2717, 2.2717, 2.2097, 2.2097, 2.2097, 2.1952, 2.1522, 2.1522, 2.1522, 2.1522, 2.1522, 2.1522, 2.1522, 2.1486, 2.0622, 2.0488, 2.0488, 2.0488, 2.0488, 2.0488, 2.0488, 2.0488, 2.0488, 2.0488, 2.0488, 2.0488, 2.022, 1.935, 1.9572, 1.7923, 1.534, 1.8751, 1.8655, 1.93, 1.6917, 1.4952, 0.8676, 0.9553, 1.5828, 1.3371, 1.7123, 1.363, 1.6321, 1.0095, 1.4202, 0.7015, 0.4938, 1.2056, 0.9235, 0.1146, 1.2081, 0.3605, 0.3203, 0.8273, 0.4497, 0.5869, 2.3845, 2.3818, 2.3768, 2.342, 2.3216, 2.3073, 2.2887, 2.2887, 2.2633, 2.2633, 2.2633, 2.2633, 2.2403, 2.2267, 2.2267, 2.2267, 2.2267, 2.1693, 2.1693, 2.1693, 2.1693, 2.1693, 2.1693, 2.1693, 2.1693, 2.1693, 2.1693, 2.1693, 2.1693, 2.1556, 2.1349, 2.1517, 2.1091, 2.0853, 2.0381, 1.976, 1.6497, 1.8198, 1.9923, 1.4029, 1.719, 1.8277, 1.0838, 1.3471, 1.3514, 1.5206, 0.4767, 0.7063, 1.2761, 0.1014, 0.9166, 0.4593, 1.265, -0.0088, 1.1172, 0.8959, 0.0369, 1.2914, 2.3962, 2.3515, 2.3515, 2.3515, 2.3515, 2.3259, 2.2888, 2.2838, 2.2549, 2.2308, 2.2308, 2.2308, 2.2308, 2.2308, 2.2308, 2.2308, 2.2308, 2.2308, 2.2308, 2.2307, 2.2125, 2.1556, 2.1263, 2.1263, 2.1263, 2.1263, 2.1263, 2.1263, 2.1263, 2.1263, 2.1263, 2.1263, 2.1044, 2.0995, 1.9728, 1.9483, 2.025, 1.9799, 1.7636, 1.9497, 1.7308, 1.7921, 1.7189, 1.318, 1.9382, 0.583, 1.1274, 0.7624, 1.2309, 1.381, 1.2821, 0.5745, 0.0557, 1.441, 0.1131, 0.0115, 0.1668, 0.218, 0.5118]}, \"token.table\": {\"Topic\": [1, 6, 2, 3, 4, 6, 7, 9, 7, 5, 3, 10, 4, 1, 3, 4, 5, 7, 9, 1, 8, 4, 4, 10, 8, 1, 1, 3, 1, 3, 9, 1, 3, 9, 6, 10, 3, 3, 5, 7, 10, 2, 1, 5, 2, 5, 5, 6, 7, 8, 9, 6, 1, 2, 4, 5, 10, 1, 3, 4, 6, 7, 4, 8, 1, 2, 3, 4, 5, 6, 7, 8, 9, 10, 2, 1, 5, 6, 7, 6, 1, 2, 3, 7, 9, 1, 3, 5, 6, 10, 1, 3, 8, 10, 5, 1, 3, 4, 7, 1, 7, 1, 2, 3, 5, 6, 7, 8, 9, 10, 8, 3, 1, 3, 4, 5, 6, 7, 8, 10, 1, 2, 3, 5, 6, 7, 10, 1, 4, 8, 4, 8, 10, 9, 2, 3, 8, 8, 10, 1, 2, 5, 6, 7, 8, 10, 10, 4, 8, 5, 5, 10, 2, 10, 7, 3, 1, 3, 7, 3, 7, 2, 6, 9, 1, 2, 6, 7, 9, 10, 6, 8, 2, 4, 6, 8, 9, 6, 2, 3, 7, 8, 2, 7, 9, 9, 1, 2, 5, 7, 9, 10, 4, 4, 4, 5, 8, 9, 10, 1, 5, 1, 2, 3, 10, 8, 6, 1, 3, 4, 10, 8, 9, 10, 9, 1, 2, 5, 6, 7, 8, 9, 10, 8, 8, 2, 5, 6, 8, 2, 2, 3, 5, 7, 2, 6, 8, 5, 2, 6, 10, 10, 1, 2, 4, 6, 7, 3, 2, 4, 7, 5, 2, 3, 4, 5, 7, 8, 9, 10, 7, 6, 3, 4, 5, 7, 8, 2, 2, 1, 9, 1, 1, 2, 3, 4, 5, 6, 7, 8, 10, 1, 2, 3, 6, 7, 8, 9, 10, 1, 2, 3, 4, 5, 6, 8, 9, 10, 9, 5, 6, 5, 6, 5, 6, 7, 2, 3, 1, 2, 6, 7, 10, 6, 1, 2, 3, 4, 5, 7, 8, 9, 10, 4, 1, 3, 4, 5, 6, 9, 1, 4, 6, 10, 2, 1, 3, 7, 10, 2, 3, 6, 7, 3, 10, 2, 7, 9, 2, 3, 4, 7, 8, 6, 4, 4, 2, 10, 4, 10, 5, 6, 8, 4, 2, 3, 4, 5, 7, 3, 10, 8, 1, 3, 4, 7, 1, 2, 4, 3, 1, 4, 5, 1, 3, 5, 6, 7, 8, 2, 7, 9, 10, 1, 7, 6, 1, 2, 3, 7, 9, 10, 8, 1, 3, 10, 10, 1, 8, 7, 5, 1, 2, 3, 4, 5, 6, 7, 8, 3, 4, 3, 6, 8, 9, 10, 2, 3, 4, 7, 8, 9, 10, 2, 3, 4, 9, 10, 1, 3, 4, 6, 7, 5, 6, 3, 9, 7, 1, 8, 9, 10, 2, 7, 2, 7, 7, 2, 4, 10, 4, 5, 7, 1, 3, 4, 6, 9, 3, 6, 3, 3, 2, 3, 8, 9, 5, 2, 2, 9, 2, 9, 1, 3, 4, 8, 10, 4, 5, 7, 10, 1, 2, 3, 4, 6, 8, 1, 2, 4, 5, 8, 9, 10, 2, 3, 7, 10, 1, 2, 4, 5, 6, 2, 3, 5, 6, 7, 3, 6, 7, 1, 1, 2, 3, 4, 5, 7, 9, 10, 5, 2, 2, 3, 4, 5, 6, 7, 8, 9, 1, 3, 5, 6, 7, 8, 9, 4, 6, 9, 10, 2, 3, 4, 5, 7, 8, 9, 10, 1, 2, 3, 4, 8, 3, 6, 8, 8, 4, 5, 6, 7, 8, 10, 2, 3, 4, 5, 7, 9, 10, 4, 5, 6, 9, 10, 3, 4, 5, 10, 6, 1, 1, 3, 4, 5, 7, 8, 9, 1, 3, 5, 6, 7, 8, 10, 1, 3, 5, 6, 1, 2, 3, 4, 5, 8, 9, 10, 1, 2, 3, 9, 10, 1, 2, 3, 4, 7, 8, 9, 10, 1, 3, 4, 7, 9, 10, 7, 7, 4, 1, 3, 4, 6, 7, 8, 10, 4, 4, 10, 6, 6, 1, 2, 3, 4, 5, 6, 7, 8, 9, 10, 1, 3, 4, 7, 8, 9, 9, 8, 9, 1, 4, 6, 1, 9, 3, 4, 7, 8, 7, 2, 1, 6, 1, 6, 10, 7, 2, 2, 1, 2, 3, 4, 6, 9, 10, 1, 2, 4, 10, 4, 2, 6, 8, 9, 1, 4, 5, 6, 8, 10, 5, 6, 7, 8, 7, 9, 2, 7, 7, 2, 4, 1, 9, 7, 1, 2, 3, 4, 5, 7, 8, 9, 10, 8, 1, 2, 3, 5, 9, 10, 1, 2, 3, 4, 5, 6, 4, 6, 7, 1, 1, 2, 4, 6, 9, 10, 1, 2, 5, 7, 9, 10, 9, 2, 3, 5, 9, 10, 4, 6, 7, 8, 9, 10, 9, 6, 7, 8, 9, 3, 1, 2, 3, 5, 10, 2, 5, 6, 7, 8, 9, 10, 6, 5, 8, 4, 8, 9, 2, 4, 6, 8, 1, 2, 3, 6, 2, 6, 1, 6, 4, 8, 2, 2, 4, 1, 3, 4, 8, 4, 7, 6, 2, 3, 4, 5, 7, 8, 1, 2, 3, 4, 6, 7, 8, 10, 10, 4, 5, 7, 6, 2, 4, 5, 6, 7, 2, 3, 8, 8, 1, 2, 3, 4, 5, 6, 7, 8, 9, 7, 4, 5, 1, 5, 10, 4, 8, 8, 1, 6, 10, 4, 5, 2, 4, 8, 1, 5, 6, 9, 8, 9, 2, 9, 5, 1, 3, 4, 6, 10, 8, 10, 2, 1, 2, 3, 4, 5, 7, 8, 9, 10, 5, 1, 3, 7, 7, 9, 10, 1, 3, 5, 9, 3, 5, 7, 8, 1, 4, 5, 8, 9, 10, 3, 6, 9, 4, 1, 2, 3, 4, 5, 6, 7, 8, 9, 10, 3, 2, 8, 5, 4, 6, 7, 8, 3, 1, 2, 3, 5, 8, 9, 3, 3, 4, 1, 3, 5, 10, 9, 10, 6, 9, 9, 9, 1, 2, 2, 6, 7, 9, 2, 3, 4, 5, 6, 10, 7, 8, 8, 7, 1, 8, 1, 2, 5, 6, 8, 10, 7, 8, 8, 1, 2, 7, 6, 1, 2, 3, 5, 9, 10, 2, 7, 4, 5, 8, 9, 10, 1, 2, 4, 5, 8, 9, 7, 8, 10, 9, 3, 4, 5, 9, 1, 2, 5, 4, 6, 3, 5, 2, 3, 4, 6, 7, 8, 9, 10, 6, 4, 3, 1, 5, 8, 9, 3, 5, 6, 10, 1, 4, 5, 6, 7, 8, 9, 3, 9, 2, 4, 9, 1, 7, 2, 3, 4, 7, 2, 3, 4, 5, 2, 4, 10, 1, 10, 6, 5, 6, 3, 5, 7, 2, 3, 5, 6, 7, 8, 9, 2, 4, 5, 7, 9, 10, 3, 1, 3, 8, 6, 8, 1, 2, 3, 8, 10, 4, 10, 1, 4, 8, 9, 10, 5, 6, 1, 2, 3, 4, 5, 6, 8, 7, 8, 5, 7, 4, 5, 6, 4, 7, 8, 8, 6, 1, 10, 2, 1, 2, 9, 2, 2, 3, 4, 7, 9, 2, 4, 8, 10, 1, 2, 4, 10, 2, 7, 10, 2, 4, 6, 8, 10, 3, 8, 8, 5, 1, 8, 1, 1, 3, 4, 10, 5, 1, 2, 5, 6, 7, 8, 10, 2, 6, 9, 1, 2, 3, 4, 5, 6, 8, 10, 1, 4, 5, 7, 8, 9, 10, 2, 4, 5, 6, 9, 4, 6, 1, 2, 4, 5, 6, 7, 8, 9, 10, 2, 1, 2, 3, 4, 5, 6, 7, 9, 10, 1, 6, 8, 1, 2, 3, 4, 8, 9, 10, 1, 7, 3, 4, 7, 8, 5, 6, 7, 3, 5, 10, 10, 10, 10, 1, 1, 3, 5, 8, 9, 10, 3, 1, 3, 4, 5, 7, 9, 10, 5, 7, 2, 7, 9, 1, 4, 10, 9, 5, 2, 3, 7, 8, 9, 2, 6, 1, 6, 7, 1, 3, 4, 7, 9, 3, 5, 2, 5, 6, 7, 9, 10, 9, 3, 2, 4, 5, 7, 8, 9, 2, 6, 8, 9, 10, 2, 3, 4, 5, 6, 8, 3, 7, 9, 7, 5, 6, 1, 4, 7, 8, 10, 2, 5, 6, 7, 8, 9, 3, 4, 6, 7, 8, 9, 10, 2, 4, 6, 10, 1, 2, 6, 1, 5, 6, 8, 1, 2, 3, 4, 5, 6, 7, 8, 9, 10, 3, 1, 3, 3, 5], \"Freq\": [0.7608799582444501, 0.6593624324527867, 0.16945222262606507, 0.04236305565651627, 0.04236305565651627, 0.5507197235347115, 0.08472611131303254, 0.08472611131303254, 0.6603061953654186, 0.6503672328044465, 0.8635047510700888, 0.8907732675799147, 0.6435110713072033, 0.3011135197344489, 0.1290486513147638, 0.1290486513147638, 0.21508108552460636, 0.08603243420984255, 0.1290486513147638, 0.6352734841980983, 0.8835865062660855, 0.8554873146116626, 0.7713928046783189, 0.8907732675799147, 0.8835865062662647, 0.6352734841980983, 0.18436438137662256, 0.7374575255064902, 0.1613678759814422, 0.806839379907211, 0.9683679871167984, 0.23883633763814158, 0.11941816881907079, 0.597090844095354, 0.6593624352549192, 0.8907732675799147, 0.8640262361568999, 0.32611999069635417, 0.4658857009947917, 0.09317714019895834, 0.09317714019895834, 0.6463091600709537, 0.6352734936964765, 0.9743666721535839, 0.11802126876762156, 0.826148881373351, 0.8666296851573773, 0.08318498389118947, 0.08318498389118947, 0.08318498389118947, 0.7486648550207052, 0.8253428844575562, 0.33462375681135487, 0.4461650090818065, 0.11154125227045163, 0.027885313067612907, 0.08365593920283872, 0.07165980909988329, 0.07165980909988329, 0.5732784727990663, 0.14331961819976657, 0.10748971364982494, 0.6435110238011635, 0.8835865062657128, 0.2571430768019714, 0.054135384589888716, 0.040601538442416533, 0.17593999991713832, 0.040601538442416533, 0.054135384589888716, 0.09473692303230524, 0.09473692303230524, 0.08120307688483307, 0.09473692303230524, 0.6463091638917997, 0.7004232656951299, 0.08240273714060352, 0.2060068428515088, 0.04120136857030176, 0.9430626927213589, 0.0994408085552563, 0.5966448513315378, 0.0994408085552563, 0.14916121283288444, 0.04972040427762815, 0.23112326218471665, 0.4622465243694333, 0.09244930487388667, 0.18489860974777333, 0.046224652436943334, 0.24245348699510053, 0.5657248029885679, 0.08081782899836684, 0.08081782899836684, 0.7801560587686648, 0.3611671897200587, 0.20638125126860496, 0.10319062563430248, 0.30957187690290744, 0.6352734771400478, 0.6603062049641155, 0.06496240613862782, 0.17323308303634083, 0.021654135379542604, 0.021654135379542604, 0.08661654151817041, 0.08661654151817041, 0.12992481227725564, 0.25984962455451127, 0.17323308303634083, 0.7973607223407748, 0.6486072417969132, 0.3006577424678406, 0.17685749556931799, 0.2299147442401134, 0.0176857495569318, 0.0530572486707954, 0.08842874778465899, 0.0176857495569318, 0.1061144973415908, 0.21618316626026537, 0.043236633252053076, 0.3458930660164246, 0.08647326650410615, 0.08647326650410615, 0.1729465330082123, 0.043236633252053076, 0.04286466886215775, 0.8572933772431549, 0.0857293377243155, 0.6435110238011635, 0.8835865062655316, 0.8907732675804042, 0.7971760910103609, 0.7213571026494046, 0.22779697978402247, 0.03796616329733708, 0.8835865062655958, 0.6698900689523548, 0.4318423003993862, 0.10796057509984655, 0.053980287549923275, 0.053980287549923275, 0.053980287549923275, 0.053980287549923275, 0.2159211501996931, 0.8907732675804076, 0.13260221693247468, 0.795613301594848, 0.6503672328040915, 0.7801562331979446, 0.6698900754343998, 0.22209774086107056, 0.6662932225832117, 0.7928816227003425, 0.6486072417968183, 0.15390395221819228, 0.2308559283272884, 0.6156158088727691, 0.29242024761768126, 0.7310506190442032, 0.8614496226125251, 0.09939803337836829, 0.03313267779278943, 0.05056905906834949, 0.20227623627339797, 0.30341435441009695, 0.3539834134784464, 0.05056905906834949, 0.05056905906834949, 0.8413691088491897, 0.12019558697845567, 0.09730772937043346, 0.14596159405565018, 0.535192511537384, 0.09730772937043346, 0.09730772937043346, 0.8764836909735164, 0.12469203755246913, 0.37407611265740737, 0.12469203755246913, 0.31173009388117284, 0.39390266758426906, 0.06565044459737818, 0.45955311218164724, 0.797176083700631, 0.639598419989214, 0.091371202855602, 0.091371202855602, 0.091371202855602, 0.045685601427801, 0.045685601427801, 0.6435110278480177, 0.8877469827950134, 0.22558491315744308, 0.45116982631488617, 0.13535094789446583, 0.04511698263148862, 0.13535094789446583, 0.8454680771978212, 0.14091134619963688, 0.43322553430904565, 0.17329021372361825, 0.08664510686180912, 0.3465804274472365, 0.9839957983552068, 0.791672257571353, 0.7401507240936601, 0.10573581772766573, 0.10573581772766573, 0.052867908863832865, 0.6637995846006438, 0.8873145626614992, 0.9424423791480381, 0.8863366792766441, 0.20235956492090817, 0.050589891230227044, 0.050589891230227044, 0.050589891230227044, 0.20235956492090817, 0.10117978246045409, 0.25294945615113523, 0.10117978246045409, 0.8835865062657503, 0.6637995846006438, 0.23625040740564698, 0.5906260185141174, 0.11812520370282349, 0.7973607266473991, 0.6463091600709537, 0.07882558898237259, 0.23647676694711775, 0.5517791228766081, 0.15765117796474518, 0.06645712853283595, 0.15506663324328387, 0.7753331662164193, 0.8666296855993717, 0.4980919253492537, 0.37356894401194024, 0.12452298133731342, 0.9603312005639909, 0.8843333149730597, 0.13159084152509337, 0.06579542076254669, 0.06579542076254669, 0.7237496283880135, 0.8963835293198934, 0.21520946714801437, 0.538023667870036, 0.21520946714801437, 0.9278877963313559, 0.15070585372097023, 0.1291764460465459, 0.08611763069769728, 0.04305881534884864, 0.40905874581406204, 0.1291764460465459, 0.02152940767442432, 0.06458822302327295, 0.7928817264470319, 0.8799600249738316, 0.12904577464023279, 0.5807059858810476, 0.12904577464023279, 0.06452288732011639, 0.06452288732011639, 0.8598865218048747, 0.9027250833648094, 0.6352734771369885, 0.6636556536849045, 0.8443528160533816, 0.30271678791059975, 0.04324525541579996, 0.12973576624739988, 0.04324525541579996, 0.04324525541579996, 0.04324525541579996, 0.08649051083159992, 0.08649051083159992, 0.17298102166319984, 0.3197705807229543, 0.12298868489344394, 0.024597736978688788, 0.024597736978688788, 0.024597736978688788, 0.41816152863770945, 0.049195473957377577, 0.024597736978688788, 0.0709430576416264, 0.0354715288208132, 0.0709430576416264, 0.0709430576416264, 0.1418861152832528, 0.4256583458497583, 0.10641458646243958, 0.0709430576416264, 0.0354715288208132, 0.9500952819776217, 0.8666297191477053, 0.791672257571408, 0.8528386068512962, 0.1346587273975731, 0.5747865680261213, 0.19159552267537375, 0.22352810978793605, 0.7749678314254593, 0.6486072417971798, 0.10942736350120626, 0.2188547270024125, 0.10942736350120626, 0.5471368175060313, 0.10942736350120626, 0.7916722575716625, 0.28069591775113384, 0.07017397943778346, 0.14034795887556692, 0.07017397943778346, 0.07017397943778346, 0.03508698971889173, 0.17543494859445866, 0.07017397943778346, 0.1052609691566752, 0.6435110238011635, 0.27654302698704025, 0.36872403598272036, 0.046090504497840044, 0.09218100899568009, 0.09218100899568009, 0.09218100899568009, 0.11047928915515813, 0.11047928915515813, 0.22095857831031626, 0.4419171566206325, 0.7749679185562494, 0.6352734771381235, 0.0958230347698049, 0.0958230347698049, 0.7665842781584392, 0.784956586487089, 0.16820498281866192, 0.7916722586027349, 0.7928817167058805, 0.19071646493247116, 0.6675076272636491, 0.09485945620873926, 0.06323963747249284, 0.8221152871424069, 0.13731430373288833, 0.13731430373288833, 0.2059714555993325, 0.34328575933222083, 0.06865715186644417, 0.7916722575712054, 0.6435110238059432, 0.7713928407520196, 0.16713547733749487, 0.8356773866874743, 0.2649043938874001, 0.6622609847185003, 0.1465947232251208, 0.732973616125604, 0.1465947232251208, 0.7713928046783192, 0.04514333368888406, 0.20314500159997828, 0.13543000106665218, 0.06771500053332609, 0.5417200042666087, 0.6486072417969132, 0.8907732675801501, 0.8472393197062942, 0.7209619887271257, 0.049721516463939706, 0.1491645493918191, 0.049721516463939706, 0.9483975466274641, 0.06747847733225323, 0.877220205319292, 0.7779054902407558, 0.19867687185910093, 0.09933843592955047, 0.6953690515068532, 0.8443534145079481, 0.07281002975364408, 0.5096702082755086, 0.14562005950728815, 0.07281002975364408, 0.21843008926093224, 0.6463091635832079, 0.19119252273840262, 0.19119252273840262, 0.5735775682152079, 0.8780275414683932, 0.09755861571871036, 0.6593624359590596, 0.07220450782960498, 0.5776360626368399, 0.07220450782960498, 0.07220450782960498, 0.07220450782960498, 0.14440901565920997, 0.6637996338441762, 0.16573461733553232, 0.16573461733553232, 0.6629384693421293, 0.8956133790415449, 0.7608799568501816, 0.8835865062655316, 0.6603061982824521, 0.7801562331975985, 0.1698219023625268, 0.06368321338594755, 0.10613868897657926, 0.2122773779531585, 0.1273664267718951, 0.10613868897657926, 0.1273664267718951, 0.06368321338594755, 0.9493968543848398, 0.8564964663539659, 0.15705697703066304, 0.07852848851533152, 0.07852848851533152, 0.07852848851533152, 0.5496994196073207, 0.4523264560649914, 0.16962242102437178, 0.11308161401624785, 0.056540807008123924, 0.11308161401624785, 0.056540807008123924, 0.056540807008123924, 0.5659913575415313, 0.056599135754153124, 0.11319827150830625, 0.11319827150830625, 0.11319827150830625, 0.07201726251898348, 0.14403452503796696, 0.4321035751139009, 0.14403452503796696, 0.21605178755695045, 0.6223007609133366, 0.34226541850233516, 0.7796294439488253, 0.12993824065813755, 0.660306250665991, 0.8843333000153879, 0.16633162759730838, 0.8316581379865419, 0.6698899487335127, 0.8094416340800648, 0.16188832681601295, 0.9217615100739378, 0.6603061844275577, 0.7928817264476677, 0.7749678340763223, 0.6435110238011635, 0.805177039445336, 0.07652385153031976, 0.7652385153031976, 0.15304770306063953, 0.5123270378873888, 0.19212263920777078, 0.0640408797359236, 0.0640408797359236, 0.1280817594718472, 0.8335988826046694, 0.0926220980671855, 0.6486072417974256, 0.6486072417969132, 0.10959945529008308, 0.2739986382252077, 0.5479972764504154, 0.6636555954365227, 0.8666296855993717, 0.6463091600709537, 0.1655075666734436, 0.6620302666937744, 0.7749678314260421, 0.6636556534961523, 0.13122629363957217, 0.26245258727914433, 0.13122629363957217, 0.32806573409893036, 0.19683944045935822, 0.9172110898269835, 0.798118973799241, 0.07255627034538555, 0.1451125406907711, 0.586462403455933, 0.2932312017279665, 0.04887186695466109, 0.04887186695466109, 0.3319890038191633, 0.6639780076383266, 0.040769359005644774, 0.12230807701693432, 0.24461615403386863, 0.2853855130395134, 0.08153871801128955, 0.20384679502822386, 0.08153871801128955, 0.07780755499653154, 0.07780755499653154, 0.7002679949687839, 0.15561510999306308, 0.13511804040071992, 0.04503934680023998, 0.04503934680023998, 0.27023608080143985, 0.5404721616028797, 0.170715629291328, 0.22762083905510402, 0.056905209763776006, 0.341431258582656, 0.170715629291328, 0.6486072417973311, 0.3305293604639719, 0.6610587209279438, 0.9038471317782727, 0.07270108947259661, 0.07270108947259661, 0.07270108947259661, 0.19386957192692428, 0.07270108947259661, 0.024233696490865535, 0.4604402333264452, 0.024233696490865535, 0.9656330050330049, 0.9675810586663145, 0.19834791045788658, 0.340024989356377, 0.028335415779698083, 0.08500624733909425, 0.1700124946781885, 0.028335415779698083, 0.028335415779698083, 0.11334166311879233, 0.11951666380519424, 0.11951666380519424, 0.11951666380519424, 0.23903332761038848, 0.05975833190259712, 0.05975833190259712, 0.2987916595129856, 0.24034075650456507, 0.12017037825228254, 0.6008518912614127, 0.12017037825228254, 0.054766540308795075, 0.16429962092638523, 0.2190661612351803, 0.10953308061759015, 0.10953308061759015, 0.054766540308795075, 0.054766540308795075, 0.2738327015439754, 0.09743207860471756, 0.09743207860471756, 0.14614811790707635, 0.04871603930235878, 0.6333085109306642, 0.587973638451332, 0.13066080854474046, 0.19599121281711068, 0.6637995214640786, 0.1462526212951902, 0.1462526212951902, 0.3900069901205072, 0.0975017475301268, 0.1950034950602536, 0.0487508737650634, 0.18641379130583544, 0.37282758261167087, 0.04660344782645886, 0.04660344782645886, 0.2796206869587532, 0.04660344782645886, 0.04660344782645886, 0.5311373092064258, 0.040856716092801976, 0.040856716092801976, 0.12257014827840594, 0.24514029655681188, 0.6486072417974256, 0.10848554396511137, 0.7593988077557795, 0.10848554396511137, 0.8799599664674884, 0.6352734841980983, 0.14914759110037726, 0.22372138665056587, 0.037286897775094315, 0.11186069332528294, 0.11186069332528294, 0.2610082844256602, 0.11186069332528294, 0.06581585504599802, 0.13163171009199603, 0.26326342018399207, 0.06581585504599802, 0.06581585504599802, 0.32907927522999003, 0.13163171009199603, 0.2035360204723549, 0.5427627212596131, 0.13569068031490328, 0.06784534015745164, 0.08701340646386518, 0.11601787528515357, 0.3915603290873933, 0.014502234410644197, 0.10151564087450939, 0.014502234410644197, 0.14502234410644196, 0.14502234410644196, 0.19958964202090831, 0.09979482101045416, 0.4490766945470437, 0.09979482101045416, 0.09979482101045416, 0.05058040970311114, 0.20232163881244455, 0.05058040970311114, 0.05058040970311114, 0.20232163881244455, 0.05058040970311114, 0.354062867921778, 0.05058040970311114, 0.059935356217703385, 0.11987071243540677, 0.11987071243540677, 0.11987071243540677, 0.5394182059593304, 0.059935356217703385, 0.8267233460242953, 0.8813610627821998, 0.7713928063661747, 0.20966747081946413, 0.20966747081946413, 0.1677339766555713, 0.08386698832778565, 0.041933494163892825, 0.20966747081946413, 0.041933494163892825, 0.7713927960260674, 0.6435110238014469, 0.8907732675799147, 0.7916722586027349, 0.6593624324527867, 0.06496594893925306, 0.05197275915140244, 0.2468706059691616, 0.06496594893925306, 0.02598637957570122, 0.1169387080906555, 0.07795913872710367, 0.233877416181311, 0.03897956936355183, 0.07795913872710367, 0.04687055372686809, 0.3749644298149447, 0.04687055372686809, 0.04687055372686809, 0.42183498354181276, 0.09374110745373618, 0.7971760901719788, 0.5315423268539688, 0.2657711634269844, 0.6352734820100425, 0.771392804680094, 0.791672258061734, 0.7608799568481722, 0.8316280734751649, 0.19608912334441456, 0.2614521644592194, 0.3921782466888291, 0.1307260822296097, 0.9101347708551684, 0.6463091575682887, 0.1459291560489593, 0.7296457802447965, 0.6352734771401017, 0.879960095269594, 0.6698900689523548, 0.7928817264478241, 0.6463091575682887, 0.6463091575682887, 0.37884233092267255, 0.05412033298895322, 0.05412033298895322, 0.05412033298895322, 0.21648133195581287, 0.10824066597790644, 0.16236099896685965, 0.18374533981083954, 0.7349813592433582, 0.7738069692804261, 0.12896782821340436, 0.9627068986067728, 0.07797505652887447, 0.3119002261154979, 0.15595011305774895, 0.3898752826443724, 0.05878531407440376, 0.4702825125952301, 0.2939265703720188, 0.05878531407440376, 0.05878531407440376, 0.05878531407440376, 0.6200352097797546, 0.2066784032599182, 0.06889280108663941, 0.13778560217327881, 0.944607503358777, 0.6636556536849045, 0.6463091600725182, 0.7928817052062032, 0.6603062049641155, 0.14267333628498272, 0.8560400177098964, 0.8443528160533816, 0.962319035303867, 0.944607503358777, 0.1512200296036773, 0.18146403552441276, 0.09073201776220638, 0.18146403552441276, 0.06048801184147092, 0.03024400592073546, 0.1512200296036773, 0.03024400592073546, 0.1512200296036773, 0.8835865062657503, 0.18457634208758966, 0.12305089472505978, 0.553729026262769, 0.06152544736252989, 0.06152544736252989, 0.06152544736252989, 0.16141885788873048, 0.053806285962910164, 0.053806285962910164, 0.10761257192582033, 0.5380628596291016, 0.053806285962910164, 0.11990288516426525, 0.11990288516426525, 0.7194173109855916, 0.9038472280674066, 0.5492582715370401, 0.09154304525617335, 0.09154304525617335, 0.09154304525617335, 0.09154304525617335, 0.09154304525617335, 0.29107489623056854, 0.07276872405764213, 0.07276872405764213, 0.14553744811528427, 0.07276872405764213, 0.36384362028821066, 0.6636556748621872, 0.08875376957418155, 0.08875376957418155, 0.08875376957418155, 0.2662613087225446, 0.4437688478709077, 0.26300678472389644, 0.15780407083433787, 0.10520271388955857, 0.31560814166867573, 0.10520271388955857, 0.8907732675799147, 0.6636556534961523, 0.5676595013574688, 0.1892198337858229, 0.1892198337858229, 0.09460991689291146, 0.7779054902397615, 0.24304929891811156, 0.19443943913448924, 0.04860985978362231, 0.04860985978362231, 0.4860985978362231, 0.12785429213756694, 0.479453595515876, 0.06392714606878347, 0.06392714606878347, 0.031963573034391735, 0.12785429213756694, 0.0958907191031752, 0.8807717660751269, 0.2648594905722164, 0.6621487264305411, 0.6500355889116052, 0.21667852963720172, 0.21667852963720172, 0.08157897310334848, 0.3263158924133939, 0.48947383862009086, 0.08157897310334848, 0.6951147126434231, 0.11585245210723717, 0.11585245210723717, 0.11585245210723717, 0.4746087115397024, 0.4746087115397024, 0.7608799568481722, 0.6593624324527867, 0.7943735149414697, 0.19859337873536742, 0.6463091575682887, 0.774967755862364, 0.9775498198261683, 0.15215327269776585, 0.6086130907910634, 0.15215327269776585, 0.15215327269776585, 0.14643237553620328, 0.7321618776810164, 0.6593624291496052, 0.2590062138293463, 0.05180124276586926, 0.28490683521228094, 0.23310559244641169, 0.12950310691467315, 0.05180124276586926, 0.05836015083572035, 0.17508045250716103, 0.13617368528334747, 0.2334406033428814, 0.05836015083572035, 0.07781353444762713, 0.15562706889525427, 0.09726691805953391, 0.6698900754335051, 0.0936124652601912, 0.2808373957805736, 0.5616747915611472, 0.6593624352532744, 0.6295533308348148, 0.03703254887263616, 0.11109764661790848, 0.07406509774527233, 0.14813019549054465, 0.13142669475592061, 0.26285338951184123, 0.5257067790236825, 0.8875433189118028, 0.02962376528060863, 0.05924753056121726, 0.35548518336730356, 0.05924753056121726, 0.23699012224486904, 0.11849506112243452, 0.02962376528060863, 0.08887129584182589, 0.08887129584182589, 0.7928816227003425, 0.8554873421027728, 0.8666296857112723, 0.18901315969499607, 0.18901315969499607, 0.5670394790849883, 0.859388041633466, 0.14323134027224435, 0.8835865062660855, 0.201618971805549, 0.6552616583680343, 0.1008094859027745, 0.12972398305934757, 0.7783438983560855, 0.7189102019364784, 0.1437820403872957, 0.1437820403872957, 0.16362273060689334, 0.05454091020229778, 0.7090318326298711, 0.6636556748618827, 0.295790565784795, 0.7394764144619875, 0.9340228931774277, 0.044477280627496556, 0.9283707205061108, 0.19428362486441267, 0.45332845801696287, 0.06476120828813756, 0.19428362486441267, 0.06476120828813756, 0.9517003337787343, 0.8907732675799147, 0.8606291613827934, 0.09851863988854226, 0.01970372797770845, 0.2364447357325014, 0.06896304792197958, 0.06896304792197958, 0.10837050387739648, 0.21674100775479296, 0.09851863988854226, 0.08866677589968804, 0.6503672328040917, 0.7685822829596503, 0.16708310499122833, 0.06683324199649134, 0.133201978185175, 0.6660098909258751, 0.133201978185175, 0.09630467357371739, 0.625980378229163, 0.04815233678685869, 0.24076168393429348, 0.5062967604262328, 0.2893124345292759, 0.14465621726463795, 0.07232810863231898, 0.2383332290522114, 0.5243331039148651, 0.04766664581044228, 0.04766664581044228, 0.09533329162088457, 0.04766664581044228, 0.1646130180642871, 0.8230650903214355, 0.6636556043791895, 0.6435110238059432, 0.2039115617428495, 0.1784226165249933, 0.15293367130713711, 0.025488945217856187, 0.025488945217856187, 0.10195578087142475, 0.1784226165249933, 0.050977890435712374, 0.050977890435712374, 0.050977890435712374, 0.7779054951571539, 0.22031060314434267, 0.660931809433028, 0.8666296862021945, 0.6902596740062957, 0.17256491850157393, 0.08628245925078697, 0.08628245925078697, 0.6486072417969132, 0.096810744453696, 0.048405372226848, 0.145216116680544, 0.338837605587936, 0.193621488907392, 0.193621488907392, 0.9709300670503923, 0.7756893089715171, 0.17237540199367046, 0.17631635124630052, 0.08815817562315026, 0.08815817562315026, 0.6171072293620519, 0.8863368313212951, 0.9603312015596781, 0.8262349217486412, 0.16524698434972826, 0.9768363095949524, 0.9500952427621161, 0.4856635369546343, 0.4856635369546343, 0.6499707346548852, 0.2708211394395355, 0.0541642278879071, 0.6636556681161662, 0.08383379519260117, 0.16766759038520235, 0.20958448798150295, 0.2934182831741041, 0.20958448798150295, 0.04191689759630059, 0.6603061953654186, 0.6637996298121223, 0.8835865062655316, 0.6603062049641155, 0.7290208612440201, 0.18225521531100503, 0.5155626035341061, 0.06444532544176326, 0.06444532544176326, 0.1933359763252898, 0.06444532544176326, 0.06444532544176326, 0.7731261578185745, 0.22089318794816418, 0.6637996338437667, 0.2759089977339711, 0.5518179954679422, 0.1839393318226474, 0.880771757894043, 0.26019798457027365, 0.13009899228513683, 0.13009899228513683, 0.13009899228513683, 0.32524748071284204, 0.06504949614256841, 0.7749678314254593, 0.7926000759581873, 0.46707894654647836, 0.09341578930929567, 0.09341578930929567, 0.18683157861859134, 0.18683157861859134, 0.3326429325131385, 0.14256125679134507, 0.3326429325131385, 0.09504083786089672, 0.09504083786089672, 0.04752041893044836, 0.19020425076816977, 0.5706127523045093, 0.19020425076816977, 0.66365567369144, 0.7549022365590141, 0.10784317665128773, 0.10784317665128773, 0.9644831960337744, 0.7063402116573538, 0.14126804233147078, 0.14126804233147078, 0.771392804680094, 0.8805010415238972, 0.6486072417969132, 0.7801562331972163, 0.14073614987477093, 0.2111042248121564, 0.04691204995825698, 0.02345602497912849, 0.2580162747704134, 0.1876481998330279, 0.11728012489564245, 0.02345602497912849, 0.7916722586027349, 0.7713927992912806, 0.8635047445090858, 0.6981503871312847, 0.11635839785521414, 0.11635839785521414, 0.11635839785521414, 0.1751987591168689, 0.1751987591168689, 0.7007950364674757, 0.6698900754335051, 0.05949805455315016, 0.17849416365945048, 0.11899610910630032, 0.4164863818720511, 0.11899610910630032, 0.05949805455315016, 0.05949805455315016, 0.16568337951884854, 0.8284168975942426, 0.14647326311214295, 0.14647326311214295, 0.5858930524485718, 0.7608800836219831, 0.7928817244170939, 0.1456516745447627, 0.1456516745447627, 0.07282583727238134, 0.5826066981790508, 0.8606291613827934, 0.6461309089839296, 0.2584523635935718, 0.6503672328039065, 0.774712422086033, 0.9328591908799746, 0.8907732675799145, 0.6352734771392842, 0.6698900754342776, 0.7916722556212092, 0.19751669326331184, 0.72422787529881, 0.18325780909419356, 0.18325780909419356, 0.5803163954649463, 0.1053170987982737, 0.05265854939913685, 0.2106341975965474, 0.05265854939913685, 0.15797564819741056, 0.1053170987982737, 0.3159512963948211, 0.04009666974561488, 0.501208371820186, 0.10024167436403719, 0.06014500461842231, 0.14033834410965207, 0.14033834410965207, 0.6486072417971798, 0.8443528731283995, 0.3767633933483061, 0.5651450900224592, 0.6593624352551901, 0.9947326198194666, 0.08775655800707952, 0.08775655800707952, 0.2632696740212386, 0.4387827900353976, 0.17551311601415903, 0.8075414375676205, 0.1615082875135241, 0.05909612314358189, 0.5909612314358189, 0.11819224628716378, 0.11819224628716378, 0.11819224628716378, 0.4627596180511348, 0.5398862210596572, 0.09466372275214345, 0.3471003167578593, 0.031554574250714486, 0.1893274455042869, 0.15777287125357242, 0.06310914850142897, 0.12621829700285794, 0.7928808617458194, 0.7973607266223743, 0.8122186947553884, 0.8813610610267993, 0.1532136777651101, 0.6128547110604404, 0.22982051664766517, 0.23985382933482619, 0.23985382933482619, 0.47970765866965237, 0.8835865062657503, 0.7916722281846786, 0.6352734771391605, 0.6698893339980353, 0.6463091575682887, 0.18374534861854563, 0.7349813944741825, 0.6636556568463233, 0.6463091600706594, 0.365505187653029, 0.17313403625669793, 0.019237115139633103, 0.07694846055853241, 0.365505187653029, 0.1019953439925495, 0.1019953439925495, 0.5099767199627475, 0.203990687985099, 0.2265936633143504, 0.4531873266287008, 0.15106244220956694, 0.07553122110478347, 0.6463091638917997, 0.2231815488463903, 0.6695446465391709, 0.13470583273692383, 0.13470583273692383, 0.6061762473161572, 0.06735291636846191, 0.033676458184230956, 0.8963835293198934, 0.950331299489031, 0.9843690437081303, 0.8666296862021945, 0.848323849125026, 0.14138730818750433, 0.6352734771368419, 0.6617948059896399, 0.16544870149740998, 0.16544870149740998, 0.6698900754351512, 0.8666296862021945, 0.13182800794057692, 0.13182800794057692, 0.06591400397028846, 0.13182800794057692, 0.13182800794057692, 0.13182800794057692, 0.3295700198514423, 0.5728371639335568, 0.4166088464971322, 0.6636555919873718, 0.34682164366778223, 0.04954594909539746, 0.09909189819079492, 0.04954594909539746, 0.2972756945723848, 0.09909189819079492, 0.04954594909539746, 0.04954594909539746, 0.29378325250783144, 0.1678761442901894, 0.0839380721450947, 0.04196903607254735, 0.20984518036273675, 0.20984518036273675, 0.04196903607254735, 0.11915478184916999, 0.4425749040112028, 0.2893758987765557, 0.05106633507821571, 0.08511055846369285, 0.18773069238475398, 0.7509227695390159, 0.03987577641255024, 0.07975155282510048, 0.03987577641255024, 0.27913043488785166, 0.07975155282510048, 0.03987577641255024, 0.11962732923765071, 0.3190062113004019, 0.03987577641255024, 0.902725022863562, 0.22902719392175938, 0.2035797279304528, 0.0254474659913066, 0.0763423979739198, 0.0763423979739198, 0.1526847959478396, 0.0254474659913066, 0.1017898639652264, 0.0763423979739198, 0.30096193451199676, 0.7022445138613258, 0.6637996338437667, 0.08382982139345138, 0.12574473209017709, 0.544893839057434, 0.04191491069672569, 0.04191491069672569, 0.12574473209017709, 0.04191491069672569, 0.7618289002830687, 0.12697148338051145, 0.2189655404622379, 0.10948277023111895, 0.3831896958089163, 0.2189655404622379, 0.6354432658624093, 0.1815552188178312, 0.16339969693604808, 0.17400971098489457, 0.6960388439395783, 0.17400971098489457, 0.6698900689523548, 0.9603312005639909, 0.6698900689523548, 0.6352734841980983, 0.12218999312360133, 0.5294899702022724, 0.08145999541573422, 0.04072999770786711, 0.08145999541573422, 0.12218999312360133, 0.8640262361575188, 0.3157084317074091, 0.035078714634156564, 0.14031485853662626, 0.14031485853662626, 0.14031485853662626, 0.2104722878049394, 0.07015742926831313, 0.8666296862021945, 0.826723283043968, 0.24725989780047877, 0.4120998296674646, 0.32967986373397173, 0.08358077750571989, 0.08358077750571989, 0.8358077750571988, 0.7971760903712204, 0.9095192895122101, 0.48931021119774604, 0.10873560248838801, 0.10873560248838801, 0.054367801244194006, 0.21747120497677602, 0.35737324471876913, 0.65518428198441, 0.6974379790154739, 0.11623966316924565, 0.11623966316924565, 0.6512505201031031, 0.10360803728913005, 0.1332103336574529, 0.04440344455248431, 0.05920459273664574, 0.8640263189112286, 0.7801562331968912, 0.18883760315277195, 0.14162820236457896, 0.09441880157638598, 0.23604700394096492, 0.04720940078819299, 0.3304658055173509, 0.8863368313212951, 0.6486072417969132, 0.15387334343958267, 0.46162003031874804, 0.10990953102827335, 0.06594571861696401, 0.02198190620565467, 0.17585524964523735, 0.08303691725450797, 0.2491107517635239, 0.3321476690180319, 0.16607383450901594, 0.16607383450901594, 0.7749678338160539, 0.040280163202268925, 0.7250429376408406, 0.12084048960680677, 0.040280163202268925, 0.08056032640453785, 0.7429064532647827, 0.18572661331619567, 0.8863368313212951, 0.6603062052889128, 0.8666297072753899, 0.6593624352551901, 0.102160398223219, 0.102160398223219, 0.102160398223219, 0.204320796446438, 0.5108019911160949, 0.40942037109499385, 0.04094203710949938, 0.20471018554749693, 0.04094203710949938, 0.08188407421899876, 0.20471018554749693, 0.45854548446834115, 0.0655064977811916, 0.0655064977811916, 0.1310129955623832, 0.1310129955623832, 0.1310129955623832, 0.9603312005639909, 0.5951954989418343, 0.037199718683864645, 0.26039803078705254, 0.07439943736772929, 0.6933678787860756, 0.11556131313101262, 0.11556131313101262, 0.7933854579080554, 0.15867709158161108, 0.8253428609524577, 0.9503313159224577, 0.031085320139657785, 0.031085320139657785, 0.24868256111726228, 0.15542660069828892, 0.12434128055863114, 0.24868256111726228, 0.06217064027931557, 0.06217064027931557, 0.031085320139657785, 0.031085320139657785, 0.6486072417971798, 0.6352734841980983, 0.6486072417971798, 0.8096578672463877, 0.9283706956883402], \"Term\": [\"0100\", \"10year\", \"15\", \"15\", \"15\", \"15\", \"15\", \"15\", \"15th17th\", \"163th\", \"176\", \"1939\", \"1pm\", \"2020\", \"2020\", \"2020\", \"2020\", \"2020\", \"2020\", \"297\", \"29863\", \"300\", \"315\", \"3700\", \"51\", \"548\", \"55\", \"55\", \"57\", \"57\", \"59\", \"60\", \"60\", \"60\", \"61\", \"71\", \"aboard\", \"accident\", \"accident\", \"accident\", \"accident\", \"accompanied\", \"administered\", \"advice\", \"affect\", \"affect\", \"affecting\", \"aftershock\", \"aftershock\", \"aftershock\", \"aftershock\", \"aid\", \"air\", \"air\", \"air\", \"air\", \"air\", \"alert\", \"alert\", \"alert\", \"alert\", \"alert\", \"allan\", \"allow\", \"amp\", \"amp\", \"amp\", \"amp\", \"amp\", \"amp\", \"amp\", \"amp\", \"amp\", \"amp\", \"amrah\", \"animals\", \"animals\", \"animals\", \"animals\", \"anticaa\", \"area\", \"area\", \"area\", \"area\", \"area\", \"arrested\", \"arrested\", \"arrested\", \"arrested\", \"arrested\", \"arson\", \"arson\", \"arson\", \"arson\", \"article\", \"ash\", \"ash\", \"ash\", \"ash\", \"aspect\", \"athgoe\", \"attack\", \"attack\", \"attack\", \"attack\", \"attack\", \"attack\", \"attack\", \"attack\", \"attack\", \"attending\", \"aussies\", \"australia\", \"australia\", \"australia\", \"australia\", \"australia\", \"australia\", \"australia\", \"australia\", \"australian\", \"australian\", \"australian\", \"australian\", \"australian\", \"australian\", \"australian\", \"avalanche\", \"avalanche\", \"avalanche\", \"avon\", \"ayyappan\", \"azadi\", \"b5427\", \"bag\", \"bag\", \"bag\", \"baluchistan\", \"barcombe\", \"base\", \"base\", \"base\", \"base\", \"base\", \"base\", \"base\", \"batang\", \"bbc\", \"bbc\", \"bertie\", \"bioterror\", \"bir\", \"birds\", \"birds\", \"blacksburg\", \"blame\", \"blocked\", \"blocked\", \"blocked\", \"blocking\", \"blocking\", \"body\", \"body\", \"body\", \"bomb\", \"bomb\", \"bomb\", \"bomb\", \"bomb\", \"bomb\", \"bomber\", \"bomber\", \"bombing\", \"bombing\", \"bombing\", \"bombing\", \"bombing\", \"boy\", \"breaking\", \"breaking\", \"breaking\", \"breaking\", \"brendan\", \"brendan\", \"brendan\", \"brings\", \"british\", \"british\", \"british\", \"british\", \"british\", \"british\", \"brogden\", \"bsf\", \"buildings\", \"buildings\", \"buildings\", \"buildings\", \"buildings\", \"burn\", \"burn\", \"burning\", \"burning\", \"burning\", \"burning\", \"bus\", \"bushfirecrisis\", \"bushfires\", \"bushfires\", \"bushfires\", \"bushfires\", \"c211\", \"cable\", \"canals\", \"cancellations\", \"car\", \"car\", \"car\", \"car\", \"car\", \"car\", \"car\", \"car\", \"carrier\", \"castertonapsley\", \"central\", \"central\", \"central\", \"ceuta\", \"chandigarh\", \"chemical\", \"chemical\", \"chemical\", \"chemical\", \"china\", \"china\", \"china\", \"chinas\", \"chinese\", \"chinese\", \"chinese\", \"chop\", \"cliff\", \"closed\", \"closed\", \"closed\", \"closed\", \"closet\", \"coast\", \"coast\", \"coast\", \"cobram\", \"collision\", \"collision\", \"collision\", \"collision\", \"collision\", \"collision\", \"collision\", \"collision\", \"concerned\", \"confirms\", \"continues\", \"continues\", \"continues\", \"continues\", \"continues\", \"coolock\", \"coronavirus\", \"coupled\", \"culverden\", \"davis\", \"days\", \"days\", \"days\", \"days\", \"days\", \"days\", \"days\", \"days\", \"days\", \"dead\", \"dead\", \"dead\", \"dead\", \"dead\", \"dead\", \"dead\", \"dead\", \"death\", \"death\", \"death\", \"death\", \"death\", \"death\", \"death\", \"death\", \"death\", \"demolish\", \"depot\", \"depotsidings\", \"derailed\", \"derailed\", \"derailment\", \"derailment\", \"derailment\", \"detectors\", \"detention\", \"devastation\", \"devastation\", \"devastation\", \"devastation\", \"devastation\", \"diagnosed\", \"died\", \"died\", \"died\", \"died\", \"died\", \"died\", \"died\", \"died\", \"died\", \"dime\", \"disaster\", \"disaster\", \"disaster\", \"disaster\", \"disaster\", \"disaster\", \"district\", \"district\", \"district\", \"district\", \"drop\", \"dropping\", \"dry\", \"dry\", \"dry\", \"dublin\", \"dublin\", \"dumped\", \"dunn\", \"early\", \"early\", \"earthquake\", \"earthquake\", \"earthquake\", \"east\", \"east\", \"east\", \"east\", \"east\", \"ebola\", \"ecg\", \"effect\", \"electric\", \"electric\", \"electrocute\", \"electrocute\", \"electrocuted\", \"electrocuted\", \"electrocuted\", \"elroy\", \"emergency\", \"emergency\", \"emergency\", \"emergency\", \"emergency\", \"employed\", \"english\", \"enormous\", \"eruption\", \"eruption\", \"eruption\", \"eruption\", \"erupts\", \"est\", \"est\", \"estate\", \"experienced\", \"experienced\", \"experienced\", \"exploding\", \"explosion\", \"explosion\", \"explosion\", \"explosion\", \"explosion\", \"extensive\", \"failure\", \"failure\", \"failure\", \"fall\", \"fall\", \"falsely\", \"family\", \"family\", \"family\", \"family\", \"family\", \"family\", \"faryab\", \"fatality\", \"fatality\", \"fatality\", \"federally\", \"feed\", \"festival\", \"fields\", \"fight\", \"fires\", \"fires\", \"fires\", \"fires\", \"fires\", \"fires\", \"fires\", \"fires\", \"flattened\", \"flee\", \"floods\", \"floods\", \"floods\", \"floods\", \"floods\", \"following\", \"following\", \"following\", \"following\", \"following\", \"following\", \"following\", \"force\", \"force\", \"force\", \"force\", \"force\", \"forest\", \"forest\", \"forest\", \"forest\", \"forest\", \"freight\", \"freight\", \"fukushima\", \"fukushima\", \"fully\", \"furniture\", \"ga\", \"ga\", \"galapagos\", \"gale\", \"gale\", \"gardai\", \"gatwick\", \"gauteng\", \"gaza\", \"glen\", \"gondolas\", \"good\", \"good\", \"good\", \"got\", \"got\", \"got\", \"got\", \"got\", \"grandmother\", \"grandmother\", \"grangemouth\", \"greatest\", \"ground\", \"ground\", \"ground\", \"grove\", \"guangdong\", \"haillightning\", \"haiti\", \"haiti\", \"haryana\", \"haunt\", \"having\", \"having\", \"having\", \"having\", \"having\", \"hawaii\", \"hazard\", \"hazard\", \"hazard\", \"hazardous\", \"hazardous\", \"hazardous\", \"hazardous\", \"heat\", \"heat\", \"heavy\", \"heavy\", \"heavy\", \"heavy\", \"heavy\", \"heavy\", \"heavy\", \"helicopter\", \"helicopter\", \"helicopter\", \"helicopter\", \"hi\", \"hi\", \"hi\", \"hi\", \"hi\", \"high\", \"high\", \"high\", \"high\", \"high\", \"highelevation\", \"highway\", \"highway\", \"hindus\", \"hit\", \"hit\", \"hit\", \"hit\", \"hit\", \"hit\", \"hit\", \"hit\", \"hitchin\", \"hiv\", \"home\", \"home\", \"home\", \"home\", \"home\", \"home\", \"home\", \"home\", \"homes\", \"homes\", \"homes\", \"homes\", \"homes\", \"homes\", \"homes\", \"horses\", \"horses\", \"horses\", \"horses\", \"hours\", \"hours\", \"hours\", \"hours\", \"hours\", \"hours\", \"hours\", \"hours\", \"huge\", \"huge\", \"huge\", \"huge\", \"huge\", \"human\", \"human\", \"human\", \"illness\", \"im\", \"im\", \"im\", \"im\", \"im\", \"im\", \"incident\", \"incident\", \"incident\", \"incident\", \"incident\", \"incident\", \"incident\", \"including\", \"including\", \"including\", \"including\", \"including\", \"industrial\", \"info\", \"info\", \"info\", \"informed\", \"inhuman\", \"injured\", \"injured\", \"injured\", \"injured\", \"injured\", \"injured\", \"injured\", \"injury\", \"injury\", \"injury\", \"injury\", \"injury\", \"injury\", \"injury\", \"innocent\", \"innocent\", \"innocent\", \"innocent\", \"iran\", \"iran\", \"iran\", \"iran\", \"iran\", \"iran\", \"iran\", \"iran\", \"iranian\", \"iranian\", \"iranian\", \"iranian\", \"iranian\", \"island\", \"island\", \"island\", \"island\", \"island\", \"island\", \"island\", \"island\", \"israel\", \"israel\", \"israel\", \"israel\", \"israel\", \"israel\", \"j4\", \"j5\", \"jakarta\", \"january\", \"january\", \"january\", \"january\", \"january\", \"january\", \"january\", \"jawan\", \"jawans\", \"jonova\", \"justice\", \"kayole\", \"killed\", \"killed\", \"killed\", \"killed\", \"killed\", \"killed\", \"killed\", \"killed\", \"killed\", \"killed\", \"killing\", \"killing\", \"killing\", \"killing\", \"killing\", \"killing\", \"kingdom\", \"knocking\", \"knocking\", \"knowing\", \"koreas\", \"kota\", \"kugbo\", \"kyma\", \"lane\", \"lane\", \"lane\", \"lane\", \"lanes\", \"lavrov\", \"lawyer\", \"lawyer\", \"lebanon\", \"legal\", \"lengthy\", \"leybourne\", \"libyan\", \"libyans\", \"lightning\", \"lightning\", \"lightning\", \"lightning\", \"lightning\", \"lightning\", \"lightning\", \"likely\", \"likely\", \"live\", \"live\", \"loc\", \"local\", \"local\", \"local\", \"local\", \"lost\", \"lost\", \"lost\", \"lost\", \"lost\", \"lost\", \"low\", \"low\", \"low\", \"low\", \"m20\", \"m24\", \"m50\", \"m66\", \"m7\", \"machil\", \"machil\", \"madalyn\", \"magnitude\", \"maidstone\", \"man\", \"man\", \"man\", \"man\", \"man\", \"man\", \"man\", \"man\", \"man\", \"maritime\", \"mass\", \"mass\", \"mass\", \"mass\", \"mass\", \"mass\", \"massive\", \"massive\", \"massive\", \"massive\", \"massive\", \"massive\", \"medical\", \"medical\", \"medical\", \"melbournes\", \"men\", \"men\", \"men\", \"men\", \"men\", \"men\", \"middle\", \"middle\", \"middle\", \"middle\", \"middle\", \"middle\", \"mile\", \"millions\", \"millions\", \"millions\", \"millions\", \"millions\", \"missing\", \"missing\", \"missing\", \"missing\", \"missing\", \"mobs\", \"modems\", \"moment\", \"moment\", \"moment\", \"moment\", \"monster\", \"months\", \"months\", \"months\", \"months\", \"months\", \"morning\", \"morning\", \"morning\", \"morning\", \"morning\", \"morning\", \"morning\", \"mosque\", \"mother\", \"mother\", \"mount\", \"mount\", \"mount\", \"mph\", \"mph\", \"mph\", \"mph\", \"murdered\", \"murdered\", \"murdered\", \"murdered\", \"mystery\", \"mystery\", \"n21\", \"nairobi\", \"national\", \"national\", \"nato\", \"naugam\", \"nc\", \"nearly\", \"nearly\", \"nearly\", \"nearly\", \"netcare\", \"netcare\", \"neverbeforeseen\", \"new\", \"new\", \"new\", \"new\", \"new\", \"new\", \"news\", \"news\", \"news\", \"news\", \"news\", \"news\", \"news\", \"news\", \"nigerien\", \"nj\", \"nj\", \"nj\", \"nola\", \"north\", \"north\", \"north\", \"north\", \"north\", \"northbound\", \"northbound\", \"northbound\", \"northwest\", \"nuclear\", \"nuclear\", \"nuclear\", \"nuclear\", \"nuclear\", \"nuclear\", \"nuclear\", \"nuclear\", \"nuclear\", \"nwsblacksburg\", \"nwsseveretstorm\", \"nwsspc\", \"obliterate\", \"obliterate\", \"obliterate\", \"olive\", \"olive\", \"onset\", \"outbreak\", \"outbreak\", \"outbreak\", \"outlook\", \"outlook\", \"overnight\", \"overnight\", \"overnight\", \"pakistan\", \"pakistan\", \"pakistan\", \"palestinechron\", \"palestinian\", \"palestinian\", \"parts\", \"parts\", \"pasquotank\", \"passengers\", \"passengers\", \"passengers\", \"passengers\", \"passengers\", \"pedestrians\", \"pelter\", \"penn\", \"people\", \"people\", \"people\", \"people\", \"people\", \"people\", \"people\", \"people\", \"people\", \"perquimans\", \"philippines\", \"philippines\", \"philippines\", \"plan\", \"plan\", \"plan\", \"plane\", \"plane\", \"plane\", \"plane\", \"plant\", \"plant\", \"plant\", \"plant\", \"pm\", \"pm\", \"pm\", \"pm\", \"pm\", \"pm\", \"pneumonia\", \"pneumonia\", \"points\", \"pole\", \"police\", \"police\", \"police\", \"police\", \"police\", \"police\", \"police\", \"police\", \"police\", \"police\", \"population\", \"port\", \"port\", \"portal\", \"possible\", \"possible\", \"possible\", \"possible\", \"postal\", \"power\", \"power\", \"power\", \"power\", \"power\", \"power\", \"powerful\", \"prayer\", \"prayer\", \"president\", \"president\", \"president\", \"president\", \"prisoners\", \"protected\", \"protestors\", \"protestors\", \"puerto\", \"quake\", \"quality\", \"quality\", \"quarantined\", \"quarantined\", \"quarantined\", \"race\", \"rain\", \"rain\", \"rain\", \"rain\", \"rain\", \"rain\", \"rainthunderstorm\", \"raise\", \"rammed\", \"rathcoole\", \"ravaging\", \"ravaging\", \"razed\", \"razed\", \"razed\", \"razed\", \"razed\", \"razed\", \"rd\", \"rd\", \"records\", \"red\", \"red\", \"red\", \"reduced\", \"region\", \"region\", \"region\", \"region\", \"region\", \"region\", \"renews\", \"reopened\", \"rescue\", \"rescue\", \"rescue\", \"rescue\", \"rescue\", \"rescued\", \"rescued\", \"rescued\", \"rescued\", \"rescued\", \"rescued\", \"responsibility\", \"responsibility\", \"responsibility\", \"retrieved\", \"return\", \"return\", \"return\", \"rico\", \"rioting\", \"rioting\", \"rioting\", \"rips\", \"rises\", \"risks\", \"rivers\", \"road\", \"road\", \"road\", \"road\", \"road\", \"road\", \"road\", \"road\", \"rock\", \"rocks\", \"role\", \"rubble\", \"rubble\", \"rubble\", \"rubble\", \"running\", \"running\", \"running\", \"sacks\", \"said\", \"said\", \"said\", \"said\", \"said\", \"said\", \"said\", \"sandstorm\", \"sandstorm\", \"saturday\", \"saturday\", \"saturday\", \"sc\", \"scattered\", \"scene\", \"scene\", \"scene\", \"scene\", \"schumer\", \"scotland\", \"scotland\", \"se\", \"sea\", \"sector\", \"selectively\", \"selfie\", \"seminole\", \"september\", \"service\", \"service\", \"services\", \"services\", \"services\", \"set\", \"set\", \"set\", \"set\", \"set\", \"set\", \"set\", \"severe\", \"severe\", \"severe\", \"severe\", \"severe\", \"severe\", \"sheikh\", \"shops\", \"significant\", \"significant\", \"silence\", \"sinkhole\", \"snow\", \"snow\", \"snow\", \"snow\", \"snow\", \"soldier\", \"soldier\", \"soldiers\", \"soldiers\", \"soldiers\", \"soldiers\", \"soldiers\", \"sorry\", \"sorry\", \"south\", \"south\", \"south\", \"south\", \"south\", \"south\", \"south\", \"southerly\", \"sparking\", \"spc\", \"specialised\", \"speed\", \"speed\", \"speed\", \"spill\", \"spill\", \"spill\", \"spills\", \"spreads\", \"spree\", \"stage\", \"statehood\", \"status\", \"status\", \"stevenage\", \"stigmabase\", \"storm\", \"storm\", \"storm\", \"storm\", \"storm\", \"storms\", \"storms\", \"storms\", \"storms\", \"strike\", \"strike\", \"strike\", \"strike\", \"strip\", \"structural\", \"structural\", \"suicide\", \"suicide\", \"suicide\", \"suicide\", \"suicide\", \"survives\", \"swallowed\", \"swallows\", \"swine\", \"sydney\", \"sydney\", \"sydneys\", \"taal\", \"taal\", \"taal\", \"tanker\", \"tb\", \"terrorist\", \"terrorist\", \"terrorist\", \"terrorist\", \"terrorist\", \"terrorist\", \"terrorist\", \"thailand\", \"thailand\", \"thameslink\", \"the\", \"the\", \"the\", \"the\", \"the\", \"the\", \"the\", \"the\", \"thousands\", \"thousands\", \"thousands\", \"thousands\", \"thousands\", \"thousands\", \"thousands\", \"thunderstorm\", \"thunderstorm\", \"thunderstorm\", \"thunderstorm\", \"thunderstorm\", \"tied\", \"tied\", \"time\", \"time\", \"time\", \"time\", \"time\", \"time\", \"time\", \"time\", \"time\", \"tn\", \"today\", \"today\", \"today\", \"today\", \"today\", \"today\", \"today\", \"today\", \"today\", \"toll\", \"toll\", \"toppling\", \"tornado\", \"tornado\", \"tornado\", \"tornado\", \"tornado\", \"tornado\", \"tornado\", \"tourist\", \"tourist\", \"traffic\", \"traffic\", \"traffic\", \"traffic\", \"train\", \"train\", \"train\", \"trains\", \"trains\", \"trains\", \"travel\", \"turbines\", \"turnoff\", \"tyrant\", \"ukrainian\", \"ukrainian\", \"ukrainian\", \"ukrainian\", \"ukrainian\", \"ukrainian\", \"understood\", \"update\", \"update\", \"update\", \"update\", \"update\", \"update\", \"update\", \"usmexico\", \"va\", \"vehicle\", \"vehicle\", \"vehicle\", \"venice\", \"venice\", \"venice\", \"veterinarian\", \"vichazmat\", \"violent\", \"violent\", \"violent\", \"violent\", \"violent\", \"virus\", \"virus\", \"volcanic\", \"volcanic\", \"volcanic\", \"volcano\", \"volcano\", \"volcano\", \"volcano\", \"volcano\", \"wa\", \"wants\", \"war\", \"war\", \"war\", \"war\", \"war\", \"war\", \"warcrimes\", \"warehousing\", \"warning\", \"warning\", \"warning\", \"warning\", \"warning\", \"warning\", \"wave\", \"wave\", \"wave\", \"wave\", \"wave\", \"waves\", \"weather\", \"weather\", \"weather\", \"weather\", \"weather\", \"wednesday\", \"wednesday\", \"westbank\", \"westbound\", \"whirlwind\", \"widow\", \"wind\", \"wind\", \"wind\", \"wind\", \"wind\", \"winds\", \"winds\", \"winds\", \"winds\", \"winds\", \"winds\", \"windstorm\", \"windstorm\", \"windstorm\", \"windstorm\", \"windstorm\", \"windstorm\", \"wires\", \"woman\", \"woman\", \"woman\", \"woman\", \"worst\", \"worst\", \"worst\", \"worth\", \"worth\", \"wuhan\", \"xining\", \"years\", \"years\", \"years\", \"years\", \"years\", \"years\", \"years\", \"years\", \"years\", \"years\", \"zakzaky\", \"zariagenocide\", \"zariamassacre\", \"zero\", \"zhuhai\"]}, \"R\": 30, \"lambda.step\": 0.01, \"plot.opts\": {\"xlab\": \"PC1\", \"ylab\": \"PC2\"}, \"topic.order\": [2, 4, 3, 6, 1, 7, 10, 9, 8, 5]};\n",
              "\n",
              "function LDAvis_load_lib(url, callback){\n",
              "  var s = document.createElement('script');\n",
              "  s.src = url;\n",
              "  s.async = true;\n",
              "  s.onreadystatechange = s.onload = callback;\n",
              "  s.onerror = function(){console.warn(\"failed to load library \" + url);};\n",
              "  document.getElementsByTagName(\"head\")[0].appendChild(s);\n",
              "}\n",
              "\n",
              "if(typeof(LDAvis) !== \"undefined\"){\n",
              "   // already loaded: just create the visualization\n",
              "   !function(LDAvis){\n",
              "       new LDAvis(\"#\" + \"ldavis_el541401543572396244288385421\", ldavis_el541401543572396244288385421_data);\n",
              "   }(LDAvis);\n",
              "}else if(typeof define === \"function\" && define.amd){\n",
              "   // require.js is available: use it to load d3/LDAvis\n",
              "   require.config({paths: {d3: \"https://cdnjs.cloudflare.com/ajax/libs/d3/3.5.5/d3.min\"}});\n",
              "   require([\"d3\"], function(d3){\n",
              "      window.d3 = d3;\n",
              "      LDAvis_load_lib(\"https://cdn.rawgit.com/bmabey/pyLDAvis/files/ldavis.v1.0.0.js\", function(){\n",
              "        new LDAvis(\"#\" + \"ldavis_el541401543572396244288385421\", ldavis_el541401543572396244288385421_data);\n",
              "      });\n",
              "    });\n",
              "}else{\n",
              "    // require.js not available: dynamically load d3 & LDAvis\n",
              "    LDAvis_load_lib(\"https://cdnjs.cloudflare.com/ajax/libs/d3/3.5.5/d3.min.js\", function(){\n",
              "         LDAvis_load_lib(\"https://cdn.rawgit.com/bmabey/pyLDAvis/files/ldavis.v1.0.0.js\", function(){\n",
              "                 new LDAvis(\"#\" + \"ldavis_el541401543572396244288385421\", ldavis_el541401543572396244288385421_data);\n",
              "            })\n",
              "         });\n",
              "}\n",
              "</script>"
            ],
            "text/plain": [
              "PreparedData(topic_coordinates=              x         y  topics  cluster       Freq\n",
              "topic                                                \n",
              "1      0.080843  0.162761       1        1  12.028676\n",
              "3     -0.004894 -0.105361       2        1  11.101681\n",
              "2      0.108172  0.038631       3        1  10.952618\n",
              "5      0.030747  0.003872       4        1  10.797999\n",
              "0     -0.134795  0.074674       5        1  10.571209\n",
              "6     -0.174405  0.029342       6        1   9.339032\n",
              "9      0.024726 -0.050779       7        1   9.176401\n",
              "8     -0.016636 -0.088954       8        1   8.962015\n",
              "7      0.045710 -0.079440       9        1   8.811092\n",
              "4      0.040534  0.015254      10        1   8.259276, topic_info=           Term       Freq      Total Category  logprob  loglift\n",
              "1118        bus  45.000000  45.000000  Default  30.0000  30.0000\n",
              "5250   sinkhole  44.000000  44.000000  Default  29.0000  29.0000\n",
              "1310      china  45.000000  45.000000  Default  28.0000  28.0000\n",
              "5906      train  55.000000  55.000000  Default  27.0000  27.0000\n",
              "5634   swallows  31.000000  31.000000  Default  26.0000  26.0000\n",
              "...         ...        ...        ...      ...      ...      ...\n",
              "558         amp   6.833287  73.888826  Topic10  -5.5474   0.1131\n",
              "3209     killed   6.430237  76.963395  Topic10  -5.6082   0.0115\n",
              "727   australia   5.517956  56.542698  Topic10  -5.7612   0.1668\n",
              "3945       news   5.279684  51.404939  Topic10  -5.8053   0.2180\n",
              "3569        man   4.555866  33.064403  Topic10  -5.9528   0.5118\n",
              "\n",
              "[634 rows x 6 columns], token_table=      Topic      Freq           Term\n",
              "term                                \n",
              "2         1  0.760880           0100\n",
              "35        6  0.659362         10year\n",
              "89        2  0.169452             15\n",
              "89        3  0.042363             15\n",
              "89        4  0.042363             15\n",
              "...     ...       ...            ...\n",
              "6457      3  0.648607        zakzaky\n",
              "6459      1  0.635273  zariagenocide\n",
              "6460      3  0.648607  zariamassacre\n",
              "6463      3  0.809658           zero\n",
              "6464      5  0.928371         zhuhai\n",
              "\n",
              "[1369 rows x 3 columns], R=30, lambda_step=0.01, plot_opts={'xlab': 'PC1', 'ylab': 'PC2'}, topic_order=[2, 4, 3, 6, 1, 7, 10, 9, 8, 5])"
            ]
          },
          "metadata": {
            "tags": []
          },
          "execution_count": 12
        }
      ]
    },
    {
      "cell_type": "code",
      "metadata": {
        "id": "lxWwwUTKr-fq"
      },
      "source": [
        ""
      ],
      "execution_count": null,
      "outputs": []
    },
    {
      "cell_type": "code",
      "metadata": {
        "id": "scYz0X7uxwZ2"
      },
      "source": [
        ""
      ],
      "execution_count": null,
      "outputs": []
    },
    {
      "cell_type": "markdown",
      "metadata": {
        "id": "ikOnbG8w0GCq"
      },
      "source": [
        "# **Data Modeling and Prediction**"
      ]
    },
    {
      "cell_type": "code",
      "metadata": {
        "id": "uKiYk-d_KFJ3"
      },
      "source": [
        "from sklearn.feature_extraction.text import CountVectorizer\n",
        "from sklearn.model_selection import train_test_split\n",
        "from sklearn.linear_model import LogisticRegression\n",
        "from sklearn import svm\n",
        "from sklearn.svm import LinearSVC\n",
        "from sklearn.pipeline import make_pipeline\n",
        "from sklearn.preprocessing import StandardScaler\n",
        "from sklearn.datasets import make_classification\n",
        "from sklearn.metrics import accuracy_score\n",
        "from sklearn.neighbors import KNeighborsClassifier\n",
        "from sklearn.feature_extraction.text import TfidfVectorizer\n",
        "from keras.preprocessing.text import Tokenizer\n",
        "from keras.preprocessing.sequence import pad_sequences\n",
        "from keras.models import Sequential\n",
        "from sklearn.ensemble import RandomForestClassifier\n",
        "from sklearn.decomposition import PCA\n",
        "from sklearn.model_selection import GridSearchCV\n",
        "from sklearn.metrics import roc_curve, auc\n",
        "import warnings\n",
        "warnings.simplefilter(\"ignore\", DeprecationWarning)\n",
        "\n",
        "from sklearn.decomposition import LatentDirichletAllocation as LDA"
      ],
      "execution_count": null,
      "outputs": []
    },
    {
      "cell_type": "markdown",
      "metadata": {
        "id": "QlxEMRve1TLC"
      },
      "source": [
        "### **Word Embedding**"
      ]
    },
    {
      "cell_type": "code",
      "metadata": {
        "id": "bC7wtkeZIZvY"
      },
      "source": [
        "############################## Bag of Words #########################\n",
        "def BOW(corpus):\n",
        "  vectorizer = CountVectorizer(max_features=10000) # corpus is a list of str\n",
        "  X = vectorizer.fit_transform(corpus).toarray()\n",
        "  return vectorizer, X\n",
        "\n",
        "############################### Glove ################################\n",
        "def create_corpus_new(df):\n",
        "    corpus=[]\n",
        "    for tweet in df['text']:\n",
        "        words=[word.lower() for word in word_tokenize(tweet)]\n",
        "        corpus.append(words)\n",
        "    return corpus\n",
        "\n",
        "def glove(df):\n",
        "  corpus=create_corpus_new(df)\n",
        "  embedding_dict={}\n",
        "  with open('/content/drive/Shared drives/CIS 520 final project/glove.6B.100d.txt','r') as f:\n",
        "    for line in f:\n",
        "        values=line.split()\n",
        "        word = values[0]\n",
        "        vectors=np.asarray(values[1:],'float32')\n",
        "        embedding_dict[word]=vectors\n",
        "  f.close()\n",
        "\n",
        "  MAX_LEN=50\n",
        "  tokenizer_obj=Tokenizer()\n",
        "  tokenizer_obj.fit_on_texts(corpus)\n",
        "  sequences=tokenizer_obj.texts_to_sequences(corpus)\n",
        "\n",
        "  tweet_pad=pad_sequences(sequences,maxlen=MAX_LEN,truncating='post',padding='post') \n",
        "\n",
        "  return  tweet_pad\n",
        "\n",
        "\n",
        "############################ TF-IDF ###########################\n",
        "def tfidf(X):\n",
        "  tv = TfidfVectorizer(use_idf=True, smooth_idf=True, norm=None)\n",
        "  X = tv.fit_transform(X)\n",
        "  return tv,X"
      ],
      "execution_count": null,
      "outputs": []
    },
    {
      "cell_type": "markdown",
      "metadata": {
        "id": "BiPd8FEY1fMW"
      },
      "source": [
        "### **Machine Learning Model**"
      ]
    },
    {
      "cell_type": "code",
      "metadata": {
        "id": "qyx7ItWsz8GS"
      },
      "source": [
        "##################### Logistic Regression #####################\n",
        "def LR(X, y):\n",
        "  clf = LogisticRegression(random_state=0,max_iter=1000).fit(X, y)\n",
        "  return clf\n",
        "\n",
        "#################### SVM ######################################\n",
        "def SVM(X, y, kernel):\n",
        "  clf = svm.SVC(kernel=kernel)\n",
        "  clf.fit(X, y)\n",
        "  return clf\n",
        "\n",
        "#################### KNN ######################################\n",
        "def knn(X,y,n):\n",
        "  clf = KNeighborsClassifier(n_neighbors=n)\n",
        "  clf.fit(X,y)\n",
        "  return clf\n",
        "\n",
        "#################### Random Forest ############################\n",
        "def rf(X,y,n):\n",
        "  clf = RandomForestClassifier(n_estimators=n)\n",
        "  clf.fit(X,y)\n",
        "  return clf"
      ],
      "execution_count": null,
      "outputs": []
    },
    {
      "cell_type": "markdown",
      "metadata": {
        "id": "HsllxckAV-KX"
      },
      "source": [
        "### **Model Evaluation**"
      ]
    },
    {
      "cell_type": "code",
      "metadata": {
        "id": "oIZ9AfF_WGLB"
      },
      "source": [
        "##################### ROC curve ###############################\n",
        "def plot_roc(model, X_test, y_test):\n",
        "    fpr, tpr, thresholds = roc_curve(y_test, model.decision_function(X_test))\n",
        "    plt.figure()\n",
        "    lw = 2\n",
        "    plt.plot(fpr, tpr, color='darkorange',\n",
        "             lw=lw, label='ROC curve')\n",
        "    plt.plot([0, 1], [0, 1], color='navy', lw=lw, linestyle='--')\n",
        "    plt.xlim([0.0, 1.0])\n",
        "    plt.ylim([0.0, 1.05])\n",
        "    plt.xlabel('False Positive Rate')\n",
        "    plt.ylabel('True Positive Rate')\n",
        "    plt.title('Receiver Operating Characteristic')\n",
        "    plt.legend(loc=\"lower right\")\n",
        "    plt.show()\n",
        "    \n",
        "    return fpr, tpr, thresholds"
      ],
      "execution_count": null,
      "outputs": []
    },
    {
      "cell_type": "markdown",
      "metadata": {
        "id": "Of6o_UMS4IPy"
      },
      "source": [
        "### **Bag of Words + Logistic Regression**"
      ]
    },
    {
      "cell_type": "code",
      "metadata": {
        "id": "Hx35gmRtJ2V5",
        "colab": {
          "base_uri": "https://localhost:8080/"
        },
        "outputId": "9f150092-189b-4fe5-a7cb-bf7570dfa45e"
      },
      "source": [
        "#### Bag of Words Plus Logistic Regression\n",
        "\n",
        "vectorizer, X = BOW(df['text'])\n",
        "y = df['target']\n",
        "X_train,X_test,y_train,y_test = train_test_split(X,y,test_size = 0.2, random_state = 42)\n",
        "\n",
        "clf = LR(X_train,y_train)\n",
        "y_pred = clf.predict(X_test)\n",
        "accuracy_score(y_test,y_pred)"
      ],
      "execution_count": null,
      "outputs": [
        {
          "output_type": "execute_result",
          "data": {
            "text/plain": [
              "0.9023746701846965"
            ]
          },
          "metadata": {
            "tags": []
          },
          "execution_count": 16
        }
      ]
    },
    {
      "cell_type": "code",
      "metadata": {
        "colab": {
          "base_uri": "https://localhost:8080/",
          "height": 313
        },
        "id": "7c_god_PTZpW",
        "outputId": "b3709917-153b-4d14-dee5-b4c81bbdf48a"
      },
      "source": [
        "fpr, tpr, thresholds = plot_roc(clf,X_test,y_test)\n",
        "print('AUC:',auc(fpr,tpr))"
      ],
      "execution_count": null,
      "outputs": [
        {
          "output_type": "display_data",
          "data": {
            "image/png": "[encoded data removed]",
            "text/plain": [
              "<Figure size 432x288 with 1 Axes>"
            ]
          },
          "metadata": {
            "tags": [],
            "needs_background": "light"
          }
        },
        {
          "output_type": "stream",
          "text": [
            "AUC: 0.9097121373479202\n"
          ],
          "name": "stdout"
        }
      ]
    },
    {
      "cell_type": "markdown",
      "metadata": {
        "id": "Kq-ppv1S4XZh"
      },
      "source": [
        "### **Bag of Words + KNN**"
      ]
    },
    {
      "cell_type": "code",
      "metadata": {
        "colab": {
          "base_uri": "https://localhost:8080/"
        },
        "id": "qLzm_Gg-1VVS",
        "outputId": "a581ecb7-fe5c-40af-9ee8-bbed5fef42a6"
      },
      "source": [
        "#### Bag of Words Plus KNN\n",
        "\n",
        "vectorizer, X = BOW(df['text'])\n",
        "y = df['target']\n",
        "X_train,X_test,y_train,y_test = train_test_split(X,y,test_size = 0.2, random_state = 42)\n",
        "\n",
        "clf = knn(X_train,y_train,10)\n",
        "y_pred = clf.predict(X_test)\n",
        "accuracy_score(y_test,y_pred)"
      ],
      "execution_count": null,
      "outputs": [
        {
          "output_type": "execute_result",
          "data": {
            "text/plain": [
              "0.8447669305189094"
            ]
          },
          "metadata": {
            "tags": []
          },
          "execution_count": 14
        }
      ]
    },
    {
      "cell_type": "markdown",
      "metadata": {
        "id": "CJvC09nF8M4B"
      },
      "source": [
        "### **Bag of Words + PCA + SVM**"
      ]
    },
    {
      "cell_type": "code",
      "metadata": {
        "colab": {
          "base_uri": "https://localhost:8080/",
          "height": 274
        },
        "id": "yTmxkxMj5QZV",
        "outputId": "2095ca04-b3aa-48c1-ab96-ac75493550cd"
      },
      "source": [
        "#### select a proper value of component\n",
        "vectorizer, X = BOW(df['text'])\n",
        "y = df['target']\n",
        "pca = PCA(n_components = 5000)\n",
        "pca.fit(X)\n",
        "pc_vs_variance = np.cumsum(pca.explained_variance_ratio_)\n",
        "plt.plot(pc_vs_variance)\n",
        "plt.show()"
      ],
      "execution_count": null,
      "outputs": [
        {
          "output_type": "display_data",
          "data": {
            "image/png": "[encoded data removed]",
            "text/plain": [
              "<Figure size 432x288 with 1 Axes>"
            ]
          },
          "metadata": {
            "tags": [],
            "needs_background": "light"
          }
        }
      ]
    },
    {
      "cell_type": "code",
      "metadata": {
        "id": "3oxiHw7p5Qhb"
      },
      "source": [
        "# Based on the plot, go with n_components = 5000\n",
        "vectorizer, X = BOW(df['text'])\n",
        "y = df['target']\n",
        "pca = PCA(n_components=5000)\n",
        "X = pca.fit_transform(X)\n",
        "X_train,X_test,y_train,y_test = train_test_split(X,y,test_size = 0.2, random_state = 42)"
      ],
      "execution_count": null,
      "outputs": []
    },
    {
      "cell_type": "code",
      "metadata": {
        "colab": {
          "base_uri": "https://localhost:8080/"
        },
        "id": "wQej38GfCktZ",
        "outputId": "e8c071b9-d4a1-4bec-ed65-25cf87d6cf64"
      },
      "source": [
        "clf = SVM(X_train, y_train, kernel = 'linear')\n",
        "y_pred = clf.predict(X_test)\n",
        "accuracy_score(y_test,y_pred)"
      ],
      "execution_count": null,
      "outputs": [
        {
          "output_type": "execute_result",
          "data": {
            "text/plain": [
              "0.8768689533861038"
            ]
          },
          "metadata": {
            "tags": []
          },
          "execution_count": 16
        }
      ]
    },
    {
      "cell_type": "markdown",
      "metadata": {
        "id": "kKJDwvISE7FF"
      },
      "source": [
        "### **Bag of Words + PCA + Random Forest**"
      ]
    },
    {
      "cell_type": "code",
      "metadata": {
        "colab": {
          "base_uri": "https://localhost:8080/"
        },
        "id": "QfOE3ULuFKWP",
        "outputId": "04e86abc-5e2b-4182-8469-3a9ee6a71688"
      },
      "source": [
        "clf = RandomForestClassifier()\n",
        "clf.fit(X_train,y_train)\n",
        "y_pred = clf.predict(X_test)\n",
        "accuracy_score(y_test,y_pred)"
      ],
      "execution_count": null,
      "outputs": [
        {
          "output_type": "execute_result",
          "data": {
            "text/plain": [
              "0.8557607739665787"
            ]
          },
          "metadata": {
            "tags": []
          },
          "execution_count": 17
        }
      ]
    },
    {
      "cell_type": "markdown",
      "metadata": {
        "id": "ENgvNEeI4g2j"
      },
      "source": [
        "### **TF-IDF + Logistic Regression**"
      ]
    },
    {
      "cell_type": "code",
      "metadata": {
        "colab": {
          "base_uri": "https://localhost:8080/"
        },
        "id": "1vHkhf_mN-bc",
        "outputId": "fc6526aa-e4e1-4dc9-a496-c6ce73fb96e2"
      },
      "source": [
        "#### TF-IDF Vectorizer Plus Logistic Regression\n",
        "\n",
        "tv,X = tfidf(df['text'])\n",
        "y = df['target']\n",
        "X_train,X_test,y_train,y_test = train_test_split(X,y,test_size = 0.2, random_state = 42)\n",
        "\n",
        "clf = LR(X_train,y_train)\n",
        "y_pred = clf.predict(X_test)\n",
        "accuracy_score(y_test,y_pred)"
      ],
      "execution_count": null,
      "outputs": [
        {
          "output_type": "execute_result",
          "data": {
            "text/plain": [
              "0.8975373790677221"
            ]
          },
          "metadata": {
            "tags": []
          },
          "execution_count": 22
        }
      ]
    },
    {
      "cell_type": "code",
      "metadata": {
        "colab": {
          "base_uri": "https://localhost:8080/",
          "height": 313
        },
        "id": "4yZC9mcdUpHF",
        "outputId": "e9431a8b-702d-45e2-db45-0682424a0b78"
      },
      "source": [
        "fpr, tpr, thresholds = plot_roc(clf,X_test,y_test)\n",
        "print('AUC:',auc(fpr,tpr))"
      ],
      "execution_count": null,
      "outputs": [
        {
          "output_type": "display_data",
          "data": {
            "image/png": "[encoded data removed]",
            "text/plain": [
              "<Figure size 432x288 with 1 Axes>"
            ]
          },
          "metadata": {
            "tags": [],
            "needs_background": "light"
          }
        },
        {
          "output_type": "stream",
          "text": [
            "AUC: 0.8996958401910479\n"
          ],
          "name": "stdout"
        }
      ]
    },
    {
      "cell_type": "markdown",
      "metadata": {
        "id": "c90mRHKG4pJP"
      },
      "source": [
        "### **TF-IDF + KNN**"
      ]
    },
    {
      "cell_type": "code",
      "metadata": {
        "colab": {
          "base_uri": "https://localhost:8080/"
        },
        "id": "J3WRCdiKtXL5",
        "outputId": "787ee971-256d-4230-a6d6-26c945abd0c9"
      },
      "source": [
        "#### TF-IDF Vectorizer Plus KNN\n",
        "\n",
        "tv,X = tfidf(df['text'])\n",
        "y = df['target']\n",
        "X_train,X_test,y_train,y_test = train_test_split(X,y,test_size = 0.2, random_state = 42)\n",
        "\n",
        "clf = knn(X_train,y_train,10)\n",
        "y_pred = clf.predict(X_test)\n",
        "accuracy_score(y_test,y_pred)"
      ],
      "execution_count": null,
      "outputs": [
        {
          "output_type": "execute_result",
          "data": {
            "text/plain": [
              "0.8390501319261213"
            ]
          },
          "metadata": {
            "tags": []
          },
          "execution_count": 16
        }
      ]
    },
    {
      "cell_type": "markdown",
      "metadata": {
        "id": "M8qTYuEpzZgB"
      },
      "source": [
        "### **TF-IDF + SVM**"
      ]
    },
    {
      "cell_type": "code",
      "metadata": {
        "colab": {
          "base_uri": "https://localhost:8080/"
        },
        "id": "B829jWnOzgGw",
        "outputId": "8184e7bd-a1c5-42d9-bc0f-2ff8d0633813"
      },
      "source": [
        "#### select a proper value of component\n",
        "tv,X = tfidf(df['text'])\n",
        "y = df['target']\n",
        "X_train,X_test,y_train,y_test = train_test_split(X,y,test_size = 0.2, random_state = 42)\n",
        "\n",
        "clf = SVM(X_train, y_train, kernel = 'rbf')\n",
        "y_pred = clf.predict(X_test)\n",
        "accuracy_score(y_test,y_pred)"
      ],
      "execution_count": null,
      "outputs": [
        {
          "output_type": "execute_result",
          "data": {
            "text/plain": [
              "0.8913808267370272"
            ]
          },
          "metadata": {
            "tags": []
          },
          "execution_count": 32
        }
      ]
    },
    {
      "cell_type": "code",
      "metadata": {
        "colab": {
          "base_uri": "https://localhost:8080/"
        },
        "id": "vQ5Stojpo3DQ",
        "outputId": "82c00710-1510-4bc2-ed1b-f82e8da7a4b7"
      },
      "source": [
        "Cs = [0.1, 1, 1.25, 1.5]\n",
        "gammas = [0.001, 0.05, 0.075, 0.1, 1]\n",
        "param_grid = {'C': Cs, 'gamma' : gammas}\n",
        "grid_search = GridSearchCV(svm.SVC(kernel='rbf'), param_grid, cv=5, scoring='accuracy') #Uses 5-fold CV\n",
        "grid_search.fit(X_train, y_train)\n",
        "y_pred = grid_search.predict(X_test)\n",
        "accuracy_score(y_test,y_pred)"
      ],
      "execution_count": null,
      "outputs": [
        {
          "output_type": "execute_result",
          "data": {
            "text/plain": [
              "0.9010554089709762"
            ]
          },
          "metadata": {
            "tags": []
          },
          "execution_count": 33
        }
      ]
    },
    {
      "cell_type": "code",
      "metadata": {
        "colab": {
          "base_uri": "https://localhost:8080/"
        },
        "id": "GCRaJV3Zr3L_",
        "outputId": "45c17eaa-1540-45fd-e27d-0debfa0f4141"
      },
      "source": [
        "grid_search.best_params_"
      ],
      "execution_count": null,
      "outputs": [
        {
          "output_type": "execute_result",
          "data": {
            "text/plain": [
              "{'C': 1.5, 'gamma': 0.001}"
            ]
          },
          "metadata": {
            "tags": []
          },
          "execution_count": 34
        }
      ]
    },
    {
      "cell_type": "code",
      "metadata": {
        "colab": {
          "base_uri": "https://localhost:8080/",
          "height": 313
        },
        "id": "zkJswoDZpTI2",
        "outputId": "27d11e8f-c3bf-4255-f1cf-3a31336d9185"
      },
      "source": [
        "fpr, tpr, thresholds = plot_roc(grid_search,X_test,y_test)\n",
        "print('AUC:',auc(fpr,tpr))"
      ],
      "execution_count": null,
      "outputs": [
        {
          "output_type": "display_data",
          "data": {
            "image/png": "[encoded data removed]",
            "text/plain": [
              "<Figure size 432x288 with 1 Axes>"
            ]
          },
          "metadata": {
            "tags": [],
            "needs_background": "light"
          }
        },
        {
          "output_type": "stream",
          "text": [
            "AUC: 0.9106022955863211\n"
          ],
          "name": "stdout"
        }
      ]
    },
    {
      "cell_type": "markdown",
      "metadata": {
        "id": "Vep_Bf3R4DLM"
      },
      "source": [
        "### **TF-IDF + Random Forest**"
      ]
    },
    {
      "cell_type": "code",
      "metadata": {
        "colab": {
          "base_uri": "https://localhost:8080/"
        },
        "id": "sRy_RyrH4B68",
        "outputId": "d34a6a26-346a-4332-bfca-e1c64c512307"
      },
      "source": [
        "tv,X = tfidf(df['text'])\n",
        "y = df['target']\n",
        "X_train,X_test,y_train,y_test = train_test_split(X,y,test_size = 0.2, random_state = 42)\n",
        "\n",
        "clf = RandomForestClassifier()\n",
        "clf.fit(X_train,y_train)\n",
        "y_pred = clf.predict(X_test)\n",
        "accuracy_score(y_test,y_pred)"
      ],
      "execution_count": null,
      "outputs": [
        {
          "output_type": "execute_result",
          "data": {
            "text/plain": [
              "0.8988566402814424"
            ]
          },
          "metadata": {
            "tags": []
          },
          "execution_count": 24
        }
      ]
    },
    {
      "cell_type": "markdown",
      "metadata": {
        "id": "elE6esnY4-94"
      },
      "source": [
        "### **Glove + Logistic Regression**"
      ]
    },
    {
      "cell_type": "code",
      "metadata": {
        "colab": {
          "base_uri": "https://localhost:8080/"
        },
        "id": "7Q7SJ0viKQvX",
        "outputId": "672afc70-bff1-497a-9d0b-9e32dc91447b"
      },
      "source": [
        "#### Glove Plus Logistic Regression\n",
        "\n",
        "X = glove(df)\n",
        "y = df['target']\n",
        "X_train,X_test,y_train,y_test = train_test_split(X,y,test_size = 0.2, random_state = 42)\n",
        "\n",
        "clf = LR(X_train,y_train)\n",
        "y_pred = clf.predict(X_test)\n",
        "accuracy_score(y_test,y_pred)"
      ],
      "execution_count": null,
      "outputs": [
        {
          "output_type": "execute_result",
          "data": {
            "text/plain": [
              "0.8258575197889182"
            ]
          },
          "metadata": {
            "tags": []
          },
          "execution_count": 36
        }
      ]
    },
    {
      "cell_type": "code",
      "metadata": {
        "colab": {
          "base_uri": "https://localhost:8080/",
          "height": 313
        },
        "id": "vgyUkc0aue7d",
        "outputId": "dc8d667f-9638-4425-9faa-6893b6e19632"
      },
      "source": [
        "fpr, tpr, thresholds = plot_roc(clf,X_test,y_test)\n",
        "print('AUC:',auc(fpr,tpr))"
      ],
      "execution_count": null,
      "outputs": [
        {
          "output_type": "display_data",
          "data": {
            "image/png": "[encoded data removed]",
            "text/plain": [
              "<Figure size 432x288 with 1 Axes>"
            ]
          },
          "metadata": {
            "tags": [],
            "needs_background": "light"
          }
        },
        {
          "output_type": "stream",
          "text": [
            "AUC: 0.5917952151977711\n"
          ],
          "name": "stdout"
        }
      ]
    },
    {
      "cell_type": "markdown",
      "metadata": {
        "id": "IJU_IXMm5E6p"
      },
      "source": [
        "### **Glove + KNN**"
      ]
    },
    {
      "cell_type": "code",
      "metadata": {
        "colab": {
          "base_uri": "https://localhost:8080/"
        },
        "id": "xv2YACOsLARP",
        "outputId": "d04fdcdf-1af5-478c-92e2-f9c998b8ec26"
      },
      "source": [
        "#### Glove Plus KNN\n",
        "X = glove(df)\n",
        "y = df['target']\n",
        "X_train,X_test,y_train,y_test = train_test_split(X,y,test_size = 0.2, random_state = 42)\n",
        "\n",
        "clf = knn(X_train,y_train,10)\n",
        "y_pred = clf.predict(X_test)\n",
        "accuracy_score(y_test,y_pred)"
      ],
      "execution_count": null,
      "outputs": [
        {
          "output_type": "execute_result",
          "data": {
            "text/plain": [
              "0.8197009674582234"
            ]
          },
          "metadata": {
            "tags": []
          },
          "execution_count": 22
        }
      ]
    },
    {
      "cell_type": "markdown",
      "metadata": {
        "id": "y0rPXUbV4gCB"
      },
      "source": [
        "### **Glove + PCA + SVM**"
      ]
    },
    {
      "cell_type": "code",
      "metadata": {
        "id": "jTwvGo4FuEpk",
        "colab": {
          "base_uri": "https://localhost:8080/",
          "height": 265
        },
        "outputId": "3b76efb3-ea8e-4272-bedc-f2fa63d2ec7a"
      },
      "source": [
        "# select the number of principal components\n",
        "X = glove(df)\n",
        "y = df['target']\n",
        "pca = PCA()\n",
        "pca.fit(X)\n",
        "pc_vs_variance = np.cumsum(pca.explained_variance_ratio_)\n",
        "plt.plot(pc_vs_variance)\n",
        "plt.show()"
      ],
      "execution_count": null,
      "outputs": [
        {
          "output_type": "display_data",
          "data": {
            "image/png": "[encoded data removed]",
            "text/plain": [
              "<Figure size 432x288 with 1 Axes>"
            ]
          },
          "metadata": {
            "tags": [],
            "needs_background": "light"
          }
        }
      ]
    },
    {
      "cell_type": "code",
      "metadata": {
        "id": "9547nnxZuEua",
        "colab": {
          "base_uri": "https://localhost:8080/"
        },
        "outputId": "8c84f8a2-32bd-4d20-96c1-4bd9e1e1998a"
      },
      "source": [
        "pca = PCA(n_components=20)\n",
        "X = pca.fit_transform(X)\n",
        "X_train,X_test,y_train,y_test = train_test_split(X,y,test_size = 0.2, random_state = 42)\n",
        "\n",
        "clf = SVM(X_train, y_train, kernel = 'rbf')\n",
        "y_pred = clf.predict(X_test)\n",
        "accuracy_score(y_test,y_pred)"
      ],
      "execution_count": null,
      "outputs": [
        {
          "output_type": "execute_result",
          "data": {
            "text/plain": [
              "0.8258575197889182"
            ]
          },
          "metadata": {
            "tags": []
          },
          "execution_count": 30
        }
      ]
    },
    {
      "cell_type": "code",
      "metadata": {
        "colab": {
          "base_uri": "https://localhost:8080/",
          "height": 313
        },
        "id": "Lj5-CvroZGg1",
        "outputId": "f8236adb-0849-4e4b-bc26-86d2b2fe30b6"
      },
      "source": [
        "fpr, tpr, thresholds = plot_roc(clf,X_test,y_test)\n",
        "print('AUC:',auc(fpr,tpr))"
      ],
      "execution_count": null,
      "outputs": [
        {
          "output_type": "display_data",
          "data": {
            "image/png": "[encoded data removed]",
            "text/plain": [
              "<Figure size 432x288 with 1 Axes>"
            ]
          },
          "metadata": {
            "tags": [],
            "needs_background": "light"
          }
        },
        {
          "output_type": "stream",
          "text": [
            "AUC: 0.5540226546616323\n"
          ],
          "name": "stdout"
        }
      ]
    },
    {
      "cell_type": "markdown",
      "metadata": {
        "id": "ZbY35loNEUZA"
      },
      "source": [
        "### **Glove + PCA + Random Forest**"
      ]
    },
    {
      "cell_type": "code",
      "metadata": {
        "id": "XkvHXDtmrcbN",
        "colab": {
          "base_uri": "https://localhost:8080/"
        },
        "outputId": "0c22d2e6-0b20-41c0-b64e-fcb1842e83f7"
      },
      "source": [
        "X = glove(df)\n",
        "y = df['target']\n",
        "pca = PCA(n_components=20)\n",
        "X = pca.fit_transform(X)\n",
        "X_train,X_test,y_train,y_test = train_test_split(X,y,test_size = 0.2, random_state = 42)\n",
        "\n",
        "clf = RandomForestClassifier()\n",
        "clf.fit(X_train,y_train)\n",
        "y_pred = clf.predict(X_test)\n",
        "accuracy_score(y_test,y_pred)"
      ],
      "execution_count": null,
      "outputs": [
        {
          "output_type": "execute_result",
          "data": {
            "text/plain": [
              "0.8306948109058927"
            ]
          },
          "metadata": {
            "tags": []
          },
          "execution_count": 10
        }
      ]
    },
    {
      "cell_type": "code",
      "metadata": {
        "id": "3NwoMG0ED6Cq"
      },
      "source": [
        ""
      ],
      "execution_count": null,
      "outputs": []
    }
  ]
}